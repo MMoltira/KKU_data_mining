{
  "nbformat": 4,
  "nbformat_minor": 0,
  "metadata": {
    "colab": {
      "name": "Data103 Distance.ipynb",
      "provenance": [],
      "include_colab_link": true
    },
    "kernelspec": {
      "name": "python3",
      "display_name": "Python 3"
    }
  },
  "cells": [
    {
      "cell_type": "markdown",
      "metadata": {
        "id": "view-in-github",
        "colab_type": "text"
      },
      "source": [
        "<a href=\"https://colab.research.google.com/github/MMoltira/KKU_data_mining/blob/master/Data103_Distance.ipynb\" target=\"_parent\"><img src=\"https://colab.research.google.com/assets/colab-badge.svg\" alt=\"Open In Colab\"/></a>"
      ]
    },
    {
      "cell_type": "code",
      "metadata": {
        "id": "XZ_C3pmmsP-S"
      },
      "source": [
        "import numpy as np \n",
        "# เกี่ยวกับตัวเลข โดยเป็นตัวเลข หรือตารางตัวเลขอย่างเดียว"
      ],
      "execution_count": null,
      "outputs": []
    },
    {
      "cell_type": "markdown",
      "metadata": {
        "id": "wA8GTQ-7snas"
      },
      "source": [
        "##numpy array"
      ]
    },
    {
      "cell_type": "code",
      "metadata": {
        "id": "6RNuOMw2skVy",
        "colab": {
          "base_uri": "https://localhost:8080/",
          "height": 51
        },
        "outputId": "7f19a045-e1d6-4006-e58c-22b920245c35"
      },
      "source": [
        "np1=np.array([[1,3,5],[2,4,6]]) # สร้าง numpy array แถวที่ 1-2 \n",
        "np1"
      ],
      "execution_count": null,
      "outputs": [
        {
          "output_type": "execute_result",
          "data": {
            "text/plain": [
              "array([[1, 3, 5],\n",
              "       [2, 4, 6]])"
            ]
          },
          "metadata": {
            "tags": []
          },
          "execution_count": 5
        }
      ]
    },
    {
      "cell_type": "code",
      "metadata": {
        "id": "T2cK4NajtNme",
        "colab": {
          "base_uri": "https://localhost:8080/",
          "height": 85
        },
        "outputId": "b1f8da2d-8a15-4892-a32f-20068071fe17"
      },
      "source": [
        "np1=np.array([[1,2],[3,5],[2,0],[4,5]]) # สร้าง numpy array แถวที่ 1-4 \n",
        "np1"
      ],
      "execution_count": null,
      "outputs": [
        {
          "output_type": "execute_result",
          "data": {
            "text/plain": [
              "array([[1, 2],\n",
              "       [3, 5],\n",
              "       [2, 0],\n",
              "       [4, 5]])"
            ]
          },
          "metadata": {
            "tags": []
          },
          "execution_count": 6
        }
      ]
    },
    {
      "cell_type": "code",
      "metadata": {
        "id": "3pbf3HTjuKiN",
        "colab": {
          "base_uri": "https://localhost:8080/",
          "height": 51
        },
        "outputId": "4b851e3c-53eb-4502-8bd1-2136c0419425"
      },
      "source": [
        "np1.T # Transpost สลับแถวเป็นหลัก สลับหลักเป็นแถวใช้คำสั่ง .T"
      ],
      "execution_count": null,
      "outputs": [
        {
          "output_type": "execute_result",
          "data": {
            "text/plain": [
              "array([[1, 3, 2, 4],\n",
              "       [2, 5, 0, 5]])"
            ]
          },
          "metadata": {
            "tags": []
          },
          "execution_count": 7
        }
      ]
    },
    {
      "cell_type": "code",
      "metadata": {
        "id": "f_1R57FEug0P",
        "colab": {
          "base_uri": "https://localhost:8080/",
          "height": 34
        },
        "outputId": "60c6a96b-b96c-4cb4-9d1c-8f06c4d0a4f2"
      },
      "source": [
        "np1[0,:] # ดูข้อมูล แถวแรก(0) ข้อมูลทุกตัว(:)ในแถวแรก"
      ],
      "execution_count": null,
      "outputs": [
        {
          "output_type": "execute_result",
          "data": {
            "text/plain": [
              "array([1, 2])"
            ]
          },
          "metadata": {
            "tags": []
          },
          "execution_count": 8
        }
      ]
    },
    {
      "cell_type": "markdown",
      "metadata": {
        "id": "JR73Bp7lu_8H"
      },
      "source": [
        "## HW 6 สร้าง Distance matrix (Euclidean) ของ np2 โดย สร้าง Function สำหรับคำนวณ Euclidean Distance\n",
        "โดยสร้าง Fucntion สำหรับคำนวน Euclidean Distance"
      ]
    },
    {
      "cell_type": "markdown",
      "metadata": {
        "id": "t_gV9wzhs4N0"
      },
      "source": [
        "#คำสั่ง def และหลังจากนั้น function_name เป็นชื่อของฟังก์ชัน และในวงเล็บ () เป็นการกำหนดพารามิเตอร์ของฟังก์ชัน พารามิเตอร์ของฟังก์ชันนั้นสามารถมีจำนวนเท่าไหร่ก็ได้หรือไม่มีก็ได้"
      ]
    },
    {
      "cell_type": "code",
      "metadata": {
        "id": "qg50lhe2vzv3"
      },
      "source": [
        "def Euclidean(data1,data2):\n",
        "  #process\n",
        "  return dist"
      ],
      "execution_count": null,
      "outputs": []
    },
    {
      "cell_type": "code",
      "metadata": {
        "id": "nYNI3_G6xSAN"
      },
      "source": [
        "import math"
      ],
      "execution_count": null,
      "outputs": []
    },
    {
      "cell_type": "code",
      "metadata": {
        "id": "NVZk6nB2wRob"
      },
      "source": [
        "def Manhattan(data1,data2):\n",
        "    distX = abs(data1[0]-data2[0]) # ใส่ abs เพื่อให้มันเป็นบวก\n",
        "    distY = abs(data1[1]-data2[1]) # Y อยู่ตำแหน่งที่ 1\n",
        "    return distX+distY"
      ],
      "execution_count": null,
      "outputs": []
    },
    {
      "cell_type": "code",
      "metadata": {
        "id": "RCCXRuL6wmUF",
        "colab": {
          "base_uri": "https://localhost:8080/",
          "height": 34
        },
        "outputId": "7cef0ab7-c9d2-498d-9ba2-e19e634fc520"
      },
      "source": [
        "Manhattan(np1[0,:],np1[1,:])"
      ],
      "execution_count": null,
      "outputs": [
        {
          "output_type": "execute_result",
          "data": {
            "text/plain": [
              "5"
            ]
          },
          "metadata": {
            "tags": []
          },
          "execution_count": 38
        }
      ]
    },
    {
      "cell_type": "markdown",
      "metadata": {
        "id": "bBKmlmJcta9s"
      },
      "source": [
        ".zeros คือ สร้าง array ที่ทุกค่าเป็น 0"
      ]
    },
    {
      "cell_type": "code",
      "metadata": {
        "id": "JPM9pasUxL9h",
        "colab": {
          "base_uri": "https://localhost:8080/",
          "height": 85
        },
        "outputId": "039c93c1-5daf-43db-fd26-f8ead105e9bc"
      },
      "source": [
        "# สร้าง array เปล่า 4x4 มาจากจำนวนข้อมูล .zeros คือ สร้าง array ที่ทุกค่าเป็น 0\n",
        "dist_mat=np.zeros((4,4))\n",
        "dist_mat"
      ],
      "execution_count": null,
      "outputs": [
        {
          "output_type": "execute_result",
          "data": {
            "text/plain": [
              "array([[0., 0., 0., 0.],\n",
              "       [0., 0., 0., 0.],\n",
              "       [0., 0., 0., 0.],\n",
              "       [0., 0., 0., 0.]])"
            ]
          },
          "metadata": {
            "tags": []
          },
          "execution_count": 39
        }
      ]
    },
    {
      "cell_type": "code",
      "metadata": {
        "id": "_Mf9ile9yy5-",
        "colab": {
          "base_uri": "https://localhost:8080/",
          "height": 85
        },
        "outputId": "99df3a17-c4ee-4d68-feba-bed71c4e456f"
      },
      "source": [
        "5*np.ones((4,4))"
      ],
      "execution_count": null,
      "outputs": [
        {
          "output_type": "execute_result",
          "data": {
            "text/plain": [
              "array([[5., 5., 5., 5.],\n",
              "       [5., 5., 5., 5.],\n",
              "       [5., 5., 5., 5.],\n",
              "       [5., 5., 5., 5.]])"
            ]
          },
          "metadata": {
            "tags": []
          },
          "execution_count": 40
        }
      ]
    },
    {
      "cell_type": "code",
      "metadata": {
        "id": "mWx2z4KWzYak",
        "colab": {
          "base_uri": "https://localhost:8080/",
          "height": 85
        },
        "outputId": "92935d64-9cfa-42a0-a124-589115d680af"
      },
      "source": [
        "for i in range(4):\n",
        "    for j in range(4):\n",
        "        dist_mat[i,j]=Manhattan(np1[i,:],np1[j,:])\n",
        "\n",
        "dist_mat"
      ],
      "execution_count": null,
      "outputs": [
        {
          "output_type": "execute_result",
          "data": {
            "text/plain": [
              "array([[0., 5., 3., 6.],\n",
              "       [5., 0., 6., 1.],\n",
              "       [3., 6., 0., 7.],\n",
              "       [6., 1., 7., 0.]])"
            ]
          },
          "metadata": {
            "tags": []
          },
          "execution_count": 41
        }
      ]
    },
    {
      "cell_type": "code",
      "metadata": {
        "id": "Lwo8-CQsVcY9"
      },
      "source": [
        "def Euclidean(data1,data2):\n",
        "    distX = pow(abs(data1[0]-data2[0]),2)\n",
        "    distY = pow(abs(data1[1]-data2[1]),2)\n",
        "    return math.sqrt(distX+distY)"
      ],
      "execution_count": null,
      "outputs": []
    },
    {
      "cell_type": "code",
      "metadata": {
        "id": "xTQGUfQvV09q",
        "colab": {
          "base_uri": "https://localhost:8080/",
          "height": 85
        },
        "outputId": "941cb0ed-bfb7-4ffc-b970-1de2165a1a4b"
      },
      "source": [
        "dist_math1 = np.zeros((4,4))\n",
        "dist_math1"
      ],
      "execution_count": null,
      "outputs": [
        {
          "output_type": "execute_result",
          "data": {
            "text/plain": [
              "array([[0., 0., 0., 0.],\n",
              "       [0., 0., 0., 0.],\n",
              "       [0., 0., 0., 0.],\n",
              "       [0., 0., 0., 0.]])"
            ]
          },
          "metadata": {
            "tags": []
          },
          "execution_count": 43
        }
      ]
    },
    {
      "cell_type": "code",
      "metadata": {
        "id": "Z5ZSoflaV5_o",
        "colab": {
          "base_uri": "https://localhost:8080/",
          "height": 85
        },
        "outputId": "12dd224b-b9f5-46f8-e3b7-774408cd429c"
      },
      "source": [
        "for i in range(4):\n",
        "    for j in range(4):\n",
        "        dist_math1[i,j] = Euclidean(np1[i,:],np1[j,:])\n",
        "dist_math1\n"
      ],
      "execution_count": null,
      "outputs": [
        {
          "output_type": "execute_result",
          "data": {
            "text/plain": [
              "array([[0.        , 3.60555128, 2.23606798, 4.24264069],\n",
              "       [3.60555128, 0.        , 5.09901951, 1.        ],\n",
              "       [2.23606798, 5.09901951, 0.        , 5.38516481],\n",
              "       [4.24264069, 1.        , 5.38516481, 0.        ]])"
            ]
          },
          "metadata": {
            "tags": []
          },
          "execution_count": 44
        }
      ]
    },
    {
      "cell_type": "markdown",
      "metadata": {
        "id": "Cw6STjXcshq7"
      },
      "source": [
        "## 26/08/2020\n",
        "## Distance of nominal or categorical features"
      ]
    },
    {
      "cell_type": "markdown",
      "metadata": {
        "id": "zagDK9aBtk7D"
      },
      "source": [
        "### (extra) Pythan data struture (Dictionary)"
      ]
    },
    {
      "cell_type": "code",
      "metadata": {
        "id": "TOsLKcxks0DB"
      },
      "source": [
        "d_A={'a':1,2:3,3:5,'cat':6} #เวลาจะเรียกใช้ต้องชี้ค่าทุกครั้ง"
      ],
      "execution_count": null,
      "outputs": []
    },
    {
      "cell_type": "code",
      "metadata": {
        "id": "B6Ib0QZMuQ12",
        "colab": {
          "base_uri": "https://localhost:8080/",
          "height": 34
        },
        "outputId": "35060b60-101e-4537-fb1b-1026f8671bc0"
      },
      "source": [
        "d_A"
      ],
      "execution_count": null,
      "outputs": [
        {
          "output_type": "execute_result",
          "data": {
            "text/plain": [
              "{2: 3, 3: 5, 'a': 1, 'cat': 6}"
            ]
          },
          "metadata": {
            "tags": []
          },
          "execution_count": 62
        }
      ]
    },
    {
      "cell_type": "code",
      "metadata": {
        "id": "IF7QVVItupdI",
        "colab": {
          "base_uri": "https://localhost:8080/",
          "height": 34
        },
        "outputId": "0c5668ed-dc51-4255-bb41-4545b6997876"
      },
      "source": [
        "d_A['cat'] #เรียก cat จะคืนค่า 6 ที่กำหนดไว้ออกมา"
      ],
      "execution_count": null,
      "outputs": [
        {
          "output_type": "execute_result",
          "data": {
            "text/plain": [
              "6"
            ]
          },
          "metadata": {
            "tags": []
          },
          "execution_count": 63
        }
      ]
    },
    {
      "cell_type": "markdown",
      "metadata": {
        "id": "Shb29PQ1tz0R"
      },
      "source": [
        "เวลาจะเพิ่มค่าใส่ลงไปใน Dictionary โดยที่ index ที่จะเพิ่มค่า dog มี 1 2 3 4 5"
      ]
    },
    {
      "cell_type": "code",
      "metadata": {
        "id": "TZZRiPA-u8s8"
      },
      "source": [
        "d_A['dog']=[1,2,3,4,5]"
      ],
      "execution_count": null,
      "outputs": []
    },
    {
      "cell_type": "code",
      "metadata": {
        "id": "sft5bCx9t8mM"
      },
      "source": [
        "del d_A[2] #คำสั่ง del ใช้ลบค่าใน dict ที่ต้องการออก"
      ],
      "execution_count": null,
      "outputs": []
    },
    {
      "cell_type": "code",
      "metadata": {
        "id": "Zkfj5E1TvG_J",
        "colab": {
          "base_uri": "https://localhost:8080/",
          "height": 34
        },
        "outputId": "1c58a71a-828a-44e4-d115-bfa868ece1da"
      },
      "source": [
        "d_A "
      ],
      "execution_count": null,
      "outputs": [
        {
          "output_type": "execute_result",
          "data": {
            "text/plain": [
              "{2: 3, 3: 5, 'a': 1, 'cat': 6, 'dog': [1, 2, 3, 4, 5]}"
            ]
          },
          "metadata": {
            "tags": []
          },
          "execution_count": 65
        }
      ]
    },
    {
      "cell_type": "code",
      "metadata": {
        "id": "KZPTnf7hw57N"
      },
      "source": [
        "import pandas as pd"
      ],
      "execution_count": null,
      "outputs": []
    },
    {
      "cell_type": "code",
      "metadata": {
        "id": "dW1W0CYDxCwP",
        "colab": {
          "base_uri": "https://localhost:8080/",
          "height": 34
        },
        "outputId": "b6048958-70b0-48ca-a3df-87157c139a28"
      },
      "source": [
        "data_dict={'color':['red','red','green'], #ค่า color จะมีทั้งหมด 3 ค่า คือ red green blue\n",
        "           'status':['single','married','single']} #ค่า status มี 3 ค่า คือ 'single','married','divc'\n",
        "data_dict"
      ],
      "execution_count": null,
      "outputs": [
        {
          "output_type": "execute_result",
          "data": {
            "text/plain": [
              "{'color': ['red', 'red', 'green'], 'status': ['single', 'married', 'single']}"
            ]
          },
          "metadata": {
            "tags": []
          },
          "execution_count": 67
        }
      ]
    },
    {
      "cell_type": "markdown",
      "metadata": {
        "id": "TnIrMl8EuRwz"
      },
      "source": [
        "#pd.DataFrame เป็นการสร้างข้อมูลใหม่ใน Dictionary\n",
        ".from_dict เรียกใช้เพื่อสร้างตาราง"
      ]
    },
    {
      "cell_type": "code",
      "metadata": {
        "id": "ICZsieozyLsi",
        "colab": {
          "base_uri": "https://localhost:8080/",
          "height": 142
        },
        "outputId": "d120f6cd-169a-47bd-a204-da357d135d89"
      },
      "source": [
        "data_pd=pd.DataFrame.from_dict(data_dict)\n",
        "data_pd"
      ],
      "execution_count": null,
      "outputs": [
        {
          "output_type": "execute_result",
          "data": {
            "text/html": [
              "<div>\n",
              "<style scoped>\n",
              "    .dataframe tbody tr th:only-of-type {\n",
              "        vertical-align: middle;\n",
              "    }\n",
              "\n",
              "    .dataframe tbody tr th {\n",
              "        vertical-align: top;\n",
              "    }\n",
              "\n",
              "    .dataframe thead th {\n",
              "        text-align: right;\n",
              "    }\n",
              "</style>\n",
              "<table border=\"1\" class=\"dataframe\">\n",
              "  <thead>\n",
              "    <tr style=\"text-align: right;\">\n",
              "      <th></th>\n",
              "      <th>color</th>\n",
              "      <th>status</th>\n",
              "    </tr>\n",
              "  </thead>\n",
              "  <tbody>\n",
              "    <tr>\n",
              "      <th>0</th>\n",
              "      <td>red</td>\n",
              "      <td>single</td>\n",
              "    </tr>\n",
              "    <tr>\n",
              "      <th>1</th>\n",
              "      <td>red</td>\n",
              "      <td>married</td>\n",
              "    </tr>\n",
              "    <tr>\n",
              "      <th>2</th>\n",
              "      <td>green</td>\n",
              "      <td>single</td>\n",
              "    </tr>\n",
              "  </tbody>\n",
              "</table>\n",
              "</div>"
            ],
            "text/plain": [
              "   color   status\n",
              "0    red   single\n",
              "1    red  married\n",
              "2  green   single"
            ]
          },
          "metadata": {
            "tags": []
          },
          "execution_count": 68
        }
      ]
    },
    {
      "cell_type": "markdown",
      "metadata": {
        "id": "2kzMLkN3yt2B"
      },
      "source": [
        "##Categorical feture distance methid#1"
      ]
    },
    {
      "cell_type": "markdown",
      "metadata": {
        "id": "Uqk_C0f0uaYF"
      },
      "source": [
        "#Categorical feature distance method#1\n",
        "คำสั่ง .iloc : มองตารางจาก pandas ให้เป็น Numpy คือ มีแถวและหลัก"
      ]
    },
    {
      "cell_type": "code",
      "metadata": {
        "id": "v47XBAwry3uv",
        "colab": {
          "base_uri": "https://localhost:8080/",
          "height": 34
        },
        "outputId": "8a3624d9-d071-43e1-ddb7-cfd0419d750f"
      },
      "source": [
        "list(data_pd.iloc[0,:]) #ตัวอย่างการเรียกค่าแต่ละ data point โดย 0 คือ ตัวที่ 0 ถ้า 1 ก็คือ red married"
      ],
      "execution_count": null,
      "outputs": [
        {
          "output_type": "execute_result",
          "data": {
            "text/plain": [
              "['red', 'single']"
            ]
          },
          "metadata": {
            "tags": []
          },
          "execution_count": 69
        }
      ]
    },
    {
      "cell_type": "code",
      "metadata": {
        "id": "uu0Z8F6xzt-o"
      },
      "source": [
        "def meth1_dist(data1,data2): #data1 data2 คือ ข้อมูลในตารางแต่ละตัว เพื่อมาดูว่า data1 และ data2 ห่างกันเท่าไหร่ โดยที่ความยาวแต่ละค่ามีค่า 2 ตัว\n",
        "    N=0 #เพื่อให้นับว่ามีทั้งหมดเท่าไหร่\n",
        "    print(f'data1 is {data1} and data2 is {data2}')\n",
        "    for i in range(len(data1)):\n",
        "        print(f'feture{i} of data is{data1[i]}, feture{i} of data2 is {data2[i]}')\n",
        "        if data1[i] !=data2[i]:\n",
        "            N=N+1 #จะนับว่ามีฟีเจอร์ที่ไม่เหมือนกันทั้งหมดกี่ตัว\n",
        "            print(f'{data1[i]}is not equal {data2[i]}:updated({N})')\n",
        "        else:\n",
        "            print(f'{data1[i]}is equal {data2[i]}')\n",
        "    return N/len(data1)"
      ],
      "execution_count": null,
      "outputs": []
    },
    {
      "cell_type": "code",
      "metadata": {
        "id": "i1zaplw100iX",
        "colab": {
          "base_uri": "https://localhost:8080/",
          "height": 119
        },
        "outputId": "e80cc5a6-dfe5-4a87-828a-3bde92a8ad13"
      },
      "source": [
        "meth1_dist(list(data_pd.iloc[0,:]),list(data_pd.iloc[1,:]))"
      ],
      "execution_count": null,
      "outputs": [
        {
          "output_type": "stream",
          "text": [
            "data1 is ['red', 'single'] and data2 is ['red', 'married']\n",
            "feture0 of data isred, feture0 of data2 is red\n",
            "redis equal red\n",
            "feture1 of data issingle, feture1 of data2 is married\n",
            "singleis not equal married:updated(1)\n"
          ],
          "name": "stdout"
        },
        {
          "output_type": "execute_result",
          "data": {
            "text/plain": [
              "0.5"
            ]
          },
          "metadata": {
            "tags": []
          },
          "execution_count": 71
        }
      ]
    },
    {
      "cell_type": "markdown",
      "metadata": {
        "id": "dTUqUgMV4GG4"
      },
      "source": [
        "##Categorical feture distance methid#2"
      ]
    },
    {
      "cell_type": "markdown",
      "metadata": {
        "id": "igWFJhrD32pq"
      },
      "source": [
        "## HW7 calculate distance matrix of data_pd using meth1_dist()"
      ]
    },
    {
      "cell_type": "code",
      "metadata": {
        "id": "RaSlC1HU4DWG",
        "colab": {
          "base_uri": "https://localhost:8080/",
          "height": 142
        },
        "outputId": "c489288d-f610-4bdb-b61c-4c61eb9dbbf3"
      },
      "source": [
        "pd.get_dummies(data_pd)"
      ],
      "execution_count": null,
      "outputs": [
        {
          "output_type": "execute_result",
          "data": {
            "text/html": [
              "<div>\n",
              "<style scoped>\n",
              "    .dataframe tbody tr th:only-of-type {\n",
              "        vertical-align: middle;\n",
              "    }\n",
              "\n",
              "    .dataframe tbody tr th {\n",
              "        vertical-align: top;\n",
              "    }\n",
              "\n",
              "    .dataframe thead th {\n",
              "        text-align: right;\n",
              "    }\n",
              "</style>\n",
              "<table border=\"1\" class=\"dataframe\">\n",
              "  <thead>\n",
              "    <tr style=\"text-align: right;\">\n",
              "      <th></th>\n",
              "      <th>color_green</th>\n",
              "      <th>color_red</th>\n",
              "      <th>status_married</th>\n",
              "      <th>status_single</th>\n",
              "    </tr>\n",
              "  </thead>\n",
              "  <tbody>\n",
              "    <tr>\n",
              "      <th>0</th>\n",
              "      <td>0</td>\n",
              "      <td>1</td>\n",
              "      <td>0</td>\n",
              "      <td>1</td>\n",
              "    </tr>\n",
              "    <tr>\n",
              "      <th>1</th>\n",
              "      <td>0</td>\n",
              "      <td>1</td>\n",
              "      <td>1</td>\n",
              "      <td>0</td>\n",
              "    </tr>\n",
              "    <tr>\n",
              "      <th>2</th>\n",
              "      <td>1</td>\n",
              "      <td>0</td>\n",
              "      <td>0</td>\n",
              "      <td>1</td>\n",
              "    </tr>\n",
              "  </tbody>\n",
              "</table>\n",
              "</div>"
            ],
            "text/plain": [
              "   color_green  color_red  status_married  status_single\n",
              "0            0          1               0              1\n",
              "1            0          1               1              0\n",
              "2            1          0               0              1"
            ]
          },
          "metadata": {
            "tags": []
          },
          "execution_count": 72
        }
      ]
    },
    {
      "cell_type": "markdown",
      "metadata": {
        "id": "BI_ge0su6JLi"
      },
      "source": [
        "การคำนวณแบบ binary \n",
        "\n",
        "เป็นเช็คว่าถ้าค่าเท่ากันจะนำไปบวกให้ q แต่ถ้าค่าไม่เท่ากันจะบวกให้ t อิงจากสูตร"
      ]
    },
    {
      "cell_type": "code",
      "metadata": {
        "id": "ejgX9UvWdrL_",
        "colab": {
          "base_uri": "https://localhost:8080/",
          "height": 142
        },
        "outputId": "db59dab3-2d84-4965-fe60-a41efc8ed0ec"
      },
      "source": [
        "data_pd_binary = pd.get_dummies(data_pd)\n",
        "data_pd_binary"
      ],
      "execution_count": null,
      "outputs": [
        {
          "output_type": "execute_result",
          "data": {
            "text/html": [
              "<div>\n",
              "<style scoped>\n",
              "    .dataframe tbody tr th:only-of-type {\n",
              "        vertical-align: middle;\n",
              "    }\n",
              "\n",
              "    .dataframe tbody tr th {\n",
              "        vertical-align: top;\n",
              "    }\n",
              "\n",
              "    .dataframe thead th {\n",
              "        text-align: right;\n",
              "    }\n",
              "</style>\n",
              "<table border=\"1\" class=\"dataframe\">\n",
              "  <thead>\n",
              "    <tr style=\"text-align: right;\">\n",
              "      <th></th>\n",
              "      <th>color_green</th>\n",
              "      <th>color_red</th>\n",
              "      <th>status_married</th>\n",
              "      <th>status_single</th>\n",
              "    </tr>\n",
              "  </thead>\n",
              "  <tbody>\n",
              "    <tr>\n",
              "      <th>0</th>\n",
              "      <td>0</td>\n",
              "      <td>1</td>\n",
              "      <td>0</td>\n",
              "      <td>1</td>\n",
              "    </tr>\n",
              "    <tr>\n",
              "      <th>1</th>\n",
              "      <td>0</td>\n",
              "      <td>1</td>\n",
              "      <td>1</td>\n",
              "      <td>0</td>\n",
              "    </tr>\n",
              "    <tr>\n",
              "      <th>2</th>\n",
              "      <td>1</td>\n",
              "      <td>0</td>\n",
              "      <td>0</td>\n",
              "      <td>1</td>\n",
              "    </tr>\n",
              "  </tbody>\n",
              "</table>\n",
              "</div>"
            ],
            "text/plain": [
              "   color_green  color_red  status_married  status_single\n",
              "0            0          1               0              1\n",
              "1            0          1               1              0\n",
              "2            1          0               0              1"
            ]
          },
          "metadata": {
            "tags": []
          },
          "execution_count": 73
        }
      ]
    },
    {
      "cell_type": "code",
      "metadata": {
        "id": "asNBksWw7rDE"
      },
      "source": [
        "def binary_sym_dist(data1,data2) :\n",
        "      q = 0\n",
        "      rs = 0\n",
        "      t = 0\n",
        "      for i in range(len(data1)) :\n",
        "           if data1[i] == data2[i] :\n",
        "              if data1[i] == 1 :\n",
        "                    q = q+1\n",
        "              else :\n",
        "                    t = t+1\n",
        "           if data1[i] != data2[i] :\n",
        "                rs = rs+1\n",
        "      return (rs)/(q+rs+t)"
      ],
      "execution_count": null,
      "outputs": []
    },
    {
      "cell_type": "code",
      "metadata": {
        "id": "mMSEtVEs7xoo",
        "colab": {
          "base_uri": "https://localhost:8080/",
          "height": 34
        },
        "outputId": "593230e9-5af4-487f-80c5-8ac101388ebc"
      },
      "source": [
        "binary_sym_dist(list(data_pd.iloc[0,:]),list(data_pd.iloc[1,:]))"
      ],
      "execution_count": null,
      "outputs": [
        {
          "output_type": "execute_result",
          "data": {
            "text/plain": [
              "0.5"
            ]
          },
          "metadata": {
            "tags": []
          },
          "execution_count": 75
        }
      ]
    },
    {
      "cell_type": "markdown",
      "metadata": {
        "id": "5JOyyPd7eg4I"
      },
      "source": [
        "## HW8 calculate distance matrix of data_pd_binary using binary_sym_dist()"
      ]
    },
    {
      "cell_type": "code",
      "metadata": {
        "id": "820M4JqFegS4",
        "colab": {
          "base_uri": "https://localhost:8080/",
          "height": 68
        },
        "outputId": "74917b6e-515f-4ff5-b7ad-73d8d4289e6e"
      },
      "source": [
        "binary_sym_dist1 = np.zeros((3,3))\n",
        "binary_sym_dist1"
      ],
      "execution_count": null,
      "outputs": [
        {
          "output_type": "execute_result",
          "data": {
            "text/plain": [
              "array([[0., 0., 0.],\n",
              "       [0., 0., 0.],\n",
              "       [0., 0., 0.]])"
            ]
          },
          "metadata": {
            "tags": []
          },
          "execution_count": 76
        }
      ]
    },
    {
      "cell_type": "code",
      "metadata": {
        "id": "rbFE6A98gKhS",
        "colab": {
          "base_uri": "https://localhost:8080/",
          "height": 68
        },
        "outputId": "73b30009-a7aa-4565-f768-85a23e3e9451"
      },
      "source": [
        "for i in range(3):\n",
        "    for j in range(3):\n",
        "        binary_sym_dist1[i,j] = binary_sym_dist(list(data_pd_binary.iloc[i,:]),list(data_pd_binary.iloc[j,:]))\n",
        "binary_sym_dist1"
      ],
      "execution_count": null,
      "outputs": [
        {
          "output_type": "execute_result",
          "data": {
            "text/plain": [
              "array([[0. , 0.5, 0.5],\n",
              "       [0.5, 0. , 1. ],\n",
              "       [0.5, 1. , 0. ]])"
            ]
          },
          "metadata": {
            "tags": []
          },
          "execution_count": 77
        }
      ]
    }
  ]
}