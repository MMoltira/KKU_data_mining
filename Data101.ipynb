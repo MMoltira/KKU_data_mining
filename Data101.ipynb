{
  "nbformat": 4,
  "nbformat_minor": 0,
  "metadata": {
    "colab": {
      "name": "Untitled0.ipynb",
      "provenance": [],
      "authorship_tag": "ABX9TyMddMcxTwKX0Hyxpz72WuC7",
      "include_colab_link": true
    },
    "kernelspec": {
      "name": "python3",
      "display_name": "Python 3"
    }
  },
  "cells": [
    {
      "cell_type": "markdown",
      "metadata": {
        "id": "view-in-github",
        "colab_type": "text"
      },
      "source": [
        "<a href=\"https://colab.research.google.com/github/MMoltira/KKU_data_mining/blob/master/Data101.ipynb\" target=\"_parent\"><img src=\"https://colab.research.google.com/assets/colab-badge.svg\" alt=\"Open In Colab\"/></a>"
      ]
    },
    {
      "cell_type": "markdown",
      "metadata": {
        "id": "ZykioGOt2UVZ",
        "colab_type": "text"
      },
      "source": [
        "ตัวอย่างการเรียกใช้ package ที่ชื่อว่า pandas โดยที่คำสั่ง import คือ การเรียกใช้ package"
      ]
    },
    {
      "cell_type": "code",
      "metadata": {
        "id": "fVr5k9Pcuh5u",
        "colab_type": "code",
        "colab": {}
      },
      "source": [
        "import pandas"
      ],
      "execution_count": null,
      "outputs": []
    },
    {
      "cell_type": "markdown",
      "metadata": {
        "id": "GI3kd-Ng3UIv",
        "colab_type": "text"
      },
      "source": [
        "การเปรี่ยนชื่อ pandas ให้สั่นลง โดยใช้คำสั่ง as เป็นชื่อที่เราต้องการ"
      ]
    },
    {
      "cell_type": "code",
      "metadata": {
        "id": "Zo3QGl4g3rGy",
        "colab_type": "code",
        "colab": {}
      },
      "source": [
        "import pandas as pd"
      ],
      "execution_count": null,
      "outputs": []
    },
    {
      "cell_type": "markdown",
      "metadata": {
        "id": "5fD_lEfm5Dx_",
        "colab_type": "text"
      },
      "source": [
        "เมื่อ library มีขนาดใหญ่ขึ้นและต้องการรวมโฟลเดอร์ จะใช้คำสั่ง from ตามด้วย ชื่อโปรเจกต์หลัก import และตามด้วย แพ็กเกจที่เราต้องการ"
      ]
    },
    {
      "cell_type": "code",
      "metadata": {
        "id": "lDa282Y26Alh",
        "colab_type": "code",
        "colab": {
          "base_uri": "https://localhost:8080/",
          "height": 122
        },
        "outputId": "182b671e-75e3-4a1f-a0f7-00b79b481921"
      },
      "source": [
        "from google.colab import drive\n",
        "drive.mount('/content/drive')"
      ],
      "execution_count": 11,
      "outputs": [
        {
          "output_type": "stream",
          "text": [
            "Go to this URL in a browser: https://accounts.google.com/o/oauth2/auth?client_id=947318989803-6bn6qk8qdgf4n4g3pfee6491hc0brc4i.apps.googleusercontent.com&redirect_uri=urn%3aietf%3awg%3aoauth%3a2.0%3aoob&scope=email%20https%3a%2f%2fwww.googleapis.com%2fauth%2fdocs.test%20https%3a%2f%2fwww.googleapis.com%2fauth%2fdrive%20https%3a%2f%2fwww.googleapis.com%2fauth%2fdrive.photos.readonly%20https%3a%2f%2fwww.googleapis.com%2fauth%2fpeopleapi.readonly&response_type=code\n",
            "\n",
            "Enter your authorization code:\n",
            "··········\n",
            "Mounted at /content/drive\n"
          ],
          "name": "stdout"
        }
      ]
    },
    {
      "cell_type": "code",
      "metadata": {
        "id": "R2CStM1bqArZ",
        "colab_type": "code",
        "colab": {
          "base_uri": "https://localhost:8080/",
          "height": 204
        },
        "outputId": "eb6a45f7-bbf2-4c3f-9867-1e5a4321c4f2"
      },
      "source": [
        "import os\n",
        "import pandas as pd\n",
        "base_path = '/content/drive/My Drive/DWDM_material'\n",
        "data = pd.read_csv(os.path.join(base_path,'test.csv'))\n",
        "data.head()"
      ],
      "execution_count": 12,
      "outputs": [
        {
          "output_type": "execute_result",
          "data": {
            "text/html": [
              "<div>\n",
              "<style scoped>\n",
              "    .dataframe tbody tr th:only-of-type {\n",
              "        vertical-align: middle;\n",
              "    }\n",
              "\n",
              "    .dataframe tbody tr th {\n",
              "        vertical-align: top;\n",
              "    }\n",
              "\n",
              "    .dataframe thead th {\n",
              "        text-align: right;\n",
              "    }\n",
              "</style>\n",
              "<table border=\"1\" class=\"dataframe\">\n",
              "  <thead>\n",
              "    <tr style=\"text-align: right;\">\n",
              "      <th></th>\n",
              "      <th>Unnamed: 0</th>\n",
              "      <th>x</th>\n",
              "      <th>y</th>\n",
              "    </tr>\n",
              "  </thead>\n",
              "  <tbody>\n",
              "    <tr>\n",
              "      <th>0</th>\n",
              "      <td>0</td>\n",
              "      <td>55.3846</td>\n",
              "      <td>97.1795</td>\n",
              "    </tr>\n",
              "    <tr>\n",
              "      <th>1</th>\n",
              "      <td>1</td>\n",
              "      <td>51.5385</td>\n",
              "      <td>96.0256</td>\n",
              "    </tr>\n",
              "    <tr>\n",
              "      <th>2</th>\n",
              "      <td>2</td>\n",
              "      <td>46.1538</td>\n",
              "      <td>94.4872</td>\n",
              "    </tr>\n",
              "    <tr>\n",
              "      <th>3</th>\n",
              "      <td>3</td>\n",
              "      <td>42.8205</td>\n",
              "      <td>91.4103</td>\n",
              "    </tr>\n",
              "    <tr>\n",
              "      <th>4</th>\n",
              "      <td>4</td>\n",
              "      <td>40.7692</td>\n",
              "      <td>88.3333</td>\n",
              "    </tr>\n",
              "  </tbody>\n",
              "</table>\n",
              "</div>"
            ],
            "text/plain": [
              "   Unnamed: 0        x        y\n",
              "0           0  55.3846  97.1795\n",
              "1           1  51.5385  96.0256\n",
              "2           2  46.1538  94.4872\n",
              "3           3  42.8205  91.4103\n",
              "4           4  40.7692  88.3333"
            ]
          },
          "metadata": {
            "tags": []
          },
          "execution_count": 12
        }
      ]
    },
    {
      "cell_type": "markdown",
      "metadata": {
        "id": "1DpfjdFv6nlV",
        "colab_type": "text"
      },
      "source": [
        "การ import os ก็คือการเรียกใช้งานที่เกี่ยวกับไฟล์ทั้งหมด"
      ]
    },
    {
      "cell_type": "code",
      "metadata": {
        "id": "k7U5seL-7Qan",
        "colab_type": "code",
        "colab": {}
      },
      "source": [
        "import os "
      ],
      "execution_count": null,
      "outputs": []
    },
    {
      "cell_type": "markdown",
      "metadata": {
        "id": "maAG18H87WSO",
        "colab_type": "text"
      },
      "source": [
        "path คือการสร้างตัวแปลของไฟล์"
      ]
    },
    {
      "cell_type": "code",
      "metadata": {
        "id": "LJMwNCHj7kN-",
        "colab_type": "code",
        "colab": {}
      },
      "source": [
        "path='/content/drive/My Drive/DWDM_material'"
      ],
      "execution_count": null,
      "outputs": []
    },
    {
      "cell_type": "markdown",
      "metadata": {
        "id": "QDJjW-fq711I",
        "colab_type": "text"
      },
      "source": [
        "listdir คือ ไฟล์ตามที่อยู่ที่เรากำหนด"
      ]
    },
    {
      "cell_type": "code",
      "metadata": {
        "id": "adXt2UOb8Fn2",
        "colab_type": "code",
        "colab": {
          "base_uri": "https://localhost:8080/",
          "height": 34
        },
        "outputId": "bd12705b-34a4-4ced-c186-4e4a3942af0a"
      },
      "source": [
        "os.listdir(path)"
      ],
      "execution_count": null,
      "outputs": [
        {
          "output_type": "execute_result",
          "data": {
            "text/plain": [
              "['test.csv']"
            ]
          },
          "metadata": {
            "tags": []
          },
          "execution_count": 6
        }
      ]
    },
    {
      "cell_type": "code",
      "metadata": {
        "id": "PoDeBjgw8oaX",
        "colab_type": "code",
        "colab": {}
      },
      "source": [
        "import pandas as pd "
      ],
      "execution_count": null,
      "outputs": []
    },
    {
      "cell_type": "markdown",
      "metadata": {
        "id": "KWuKtcdO8uRb",
        "colab_type": "text"
      },
      "source": [
        "จากนั้นจะสร้างตัวแปลที่ชื่อ file_path โดยจะเปิดไฟล์ .csv และสร้างตัวแปร os.path.join ซึ่งจะ join อยู่สองอย่าง คือ path และ ไฟล์ที่ชื่อ test.csv"
      ]
    },
    {
      "cell_type": "code",
      "metadata": {
        "id": "srh_EHq79d3H",
        "colab_type": "code",
        "colab": {
          "base_uri": "https://localhost:8080/",
          "height": 34
        },
        "outputId": "64804fb6-6110-4d94-fc73-bdfdb8085d0c"
      },
      "source": [
        "file_path=os.path.join(path,'test.csv')\n",
        "print(file_path)"
      ],
      "execution_count": null,
      "outputs": [
        {
          "output_type": "stream",
          "text": [
            "/content/drive/My Drive/DWDM_material/test.csv\n"
          ],
          "name": "stdout"
        }
      ]
    },
    {
      "cell_type": "code",
      "metadata": {
        "id": "Ky1iv5bG96uj",
        "colab_type": "code",
        "colab": {
          "base_uri": "https://localhost:8080/",
          "height": 204
        },
        "outputId": "5322bdfc-b58b-4e92-b305-1853a00976c3"
      },
      "source": [
        "pd.read_csv(file_path).head()"
      ],
      "execution_count": null,
      "outputs": [
        {
          "output_type": "execute_result",
          "data": {
            "text/html": [
              "<div>\n",
              "<style scoped>\n",
              "    .dataframe tbody tr th:only-of-type {\n",
              "        vertical-align: middle;\n",
              "    }\n",
              "\n",
              "    .dataframe tbody tr th {\n",
              "        vertical-align: top;\n",
              "    }\n",
              "\n",
              "    .dataframe thead th {\n",
              "        text-align: right;\n",
              "    }\n",
              "</style>\n",
              "<table border=\"1\" class=\"dataframe\">\n",
              "  <thead>\n",
              "    <tr style=\"text-align: right;\">\n",
              "      <th></th>\n",
              "      <th>Unnamed: 0</th>\n",
              "      <th>x</th>\n",
              "      <th>y</th>\n",
              "    </tr>\n",
              "  </thead>\n",
              "  <tbody>\n",
              "    <tr>\n",
              "      <th>0</th>\n",
              "      <td>0</td>\n",
              "      <td>55.3846</td>\n",
              "      <td>97.1795</td>\n",
              "    </tr>\n",
              "    <tr>\n",
              "      <th>1</th>\n",
              "      <td>1</td>\n",
              "      <td>51.5385</td>\n",
              "      <td>96.0256</td>\n",
              "    </tr>\n",
              "    <tr>\n",
              "      <th>2</th>\n",
              "      <td>2</td>\n",
              "      <td>46.1538</td>\n",
              "      <td>94.4872</td>\n",
              "    </tr>\n",
              "    <tr>\n",
              "      <th>3</th>\n",
              "      <td>3</td>\n",
              "      <td>42.8205</td>\n",
              "      <td>91.4103</td>\n",
              "    </tr>\n",
              "    <tr>\n",
              "      <th>4</th>\n",
              "      <td>4</td>\n",
              "      <td>40.7692</td>\n",
              "      <td>88.3333</td>\n",
              "    </tr>\n",
              "  </tbody>\n",
              "</table>\n",
              "</div>"
            ],
            "text/plain": [
              "   Unnamed: 0        x        y\n",
              "0           0  55.3846  97.1795\n",
              "1           1  51.5385  96.0256\n",
              "2           2  46.1538  94.4872\n",
              "3           3  42.8205  91.4103\n",
              "4           4  40.7692  88.3333"
            ]
          },
          "metadata": {
            "tags": []
          },
          "execution_count": 9
        }
      ]
    },
    {
      "cell_type": "markdown",
      "metadata": {
        "id": "P1SGX06L-MOX",
        "colab_type": "text"
      },
      "source": [
        "ให้ table1 เป็นตัวแปร จึงทำให้ pd.read_csv(file_path) เข้ามาอยู่ในตัวแปร หลังจากนั้นเมื่อจะใช้ก็ให้พิมพ์ชื่อตัวแปรที่เราตั้งไว้ จากนั้นรันผล มันจะโชว์ตัวแปรและค่าข้างในตัวแปรนั้นๆ"
      ]
    },
    {
      "cell_type": "code",
      "metadata": {
        "id": "cjMjEric_GAf",
        "colab_type": "code",
        "colab": {}
      },
      "source": [
        "table1=pd.read_csv(file_path)"
      ],
      "execution_count": null,
      "outputs": []
    },
    {
      "cell_type": "code",
      "metadata": {
        "id": "vqGl_wXa_RLB",
        "colab_type": "code",
        "colab": {
          "base_uri": "https://localhost:8080/",
          "height": 419
        },
        "outputId": "39077403-4168-4fe9-b76b-604afb04145a"
      },
      "source": [
        "table1"
      ],
      "execution_count": null,
      "outputs": [
        {
          "output_type": "execute_result",
          "data": {
            "text/html": [
              "<div>\n",
              "<style scoped>\n",
              "    .dataframe tbody tr th:only-of-type {\n",
              "        vertical-align: middle;\n",
              "    }\n",
              "\n",
              "    .dataframe tbody tr th {\n",
              "        vertical-align: top;\n",
              "    }\n",
              "\n",
              "    .dataframe thead th {\n",
              "        text-align: right;\n",
              "    }\n",
              "</style>\n",
              "<table border=\"1\" class=\"dataframe\">\n",
              "  <thead>\n",
              "    <tr style=\"text-align: right;\">\n",
              "      <th></th>\n",
              "      <th>Unnamed: 0</th>\n",
              "      <th>x</th>\n",
              "      <th>y</th>\n",
              "    </tr>\n",
              "  </thead>\n",
              "  <tbody>\n",
              "    <tr>\n",
              "      <th>0</th>\n",
              "      <td>0</td>\n",
              "      <td>55.3846</td>\n",
              "      <td>97.1795</td>\n",
              "    </tr>\n",
              "    <tr>\n",
              "      <th>1</th>\n",
              "      <td>1</td>\n",
              "      <td>51.5385</td>\n",
              "      <td>96.0256</td>\n",
              "    </tr>\n",
              "    <tr>\n",
              "      <th>2</th>\n",
              "      <td>2</td>\n",
              "      <td>46.1538</td>\n",
              "      <td>94.4872</td>\n",
              "    </tr>\n",
              "    <tr>\n",
              "      <th>3</th>\n",
              "      <td>3</td>\n",
              "      <td>42.8205</td>\n",
              "      <td>91.4103</td>\n",
              "    </tr>\n",
              "    <tr>\n",
              "      <th>4</th>\n",
              "      <td>4</td>\n",
              "      <td>40.7692</td>\n",
              "      <td>88.3333</td>\n",
              "    </tr>\n",
              "    <tr>\n",
              "      <th>...</th>\n",
              "      <td>...</td>\n",
              "      <td>...</td>\n",
              "      <td>...</td>\n",
              "    </tr>\n",
              "    <tr>\n",
              "      <th>137</th>\n",
              "      <td>137</td>\n",
              "      <td>39.4872</td>\n",
              "      <td>25.3846</td>\n",
              "    </tr>\n",
              "    <tr>\n",
              "      <th>138</th>\n",
              "      <td>138</td>\n",
              "      <td>91.2821</td>\n",
              "      <td>41.5385</td>\n",
              "    </tr>\n",
              "    <tr>\n",
              "      <th>139</th>\n",
              "      <td>139</td>\n",
              "      <td>50.0000</td>\n",
              "      <td>95.7692</td>\n",
              "    </tr>\n",
              "    <tr>\n",
              "      <th>140</th>\n",
              "      <td>140</td>\n",
              "      <td>47.9487</td>\n",
              "      <td>95.0000</td>\n",
              "    </tr>\n",
              "    <tr>\n",
              "      <th>141</th>\n",
              "      <td>141</td>\n",
              "      <td>44.1026</td>\n",
              "      <td>92.6923</td>\n",
              "    </tr>\n",
              "  </tbody>\n",
              "</table>\n",
              "<p>142 rows × 3 columns</p>\n",
              "</div>"
            ],
            "text/plain": [
              "     Unnamed: 0        x        y\n",
              "0             0  55.3846  97.1795\n",
              "1             1  51.5385  96.0256\n",
              "2             2  46.1538  94.4872\n",
              "3             3  42.8205  91.4103\n",
              "4             4  40.7692  88.3333\n",
              "..          ...      ...      ...\n",
              "137         137  39.4872  25.3846\n",
              "138         138  91.2821  41.5385\n",
              "139         139  50.0000  95.7692\n",
              "140         140  47.9487  95.0000\n",
              "141         141  44.1026  92.6923\n",
              "\n",
              "[142 rows x 3 columns]"
            ]
          },
          "metadata": {
            "tags": []
          },
          "execution_count": 11
        }
      ]
    },
    {
      "cell_type": "markdown",
      "metadata": {
        "id": "JM7rM7-w_Y7z",
        "colab_type": "text"
      },
      "source": [
        "pyplot เป็นแพ็กเกจที่เอาไว้ใช้ในการพล็อตกราฟ คำสั่งแรก scatter โดยจะนำแต่ละจุดไปพล็อตที่กราฟ x และ y"
      ]
    },
    {
      "cell_type": "code",
      "metadata": {
        "id": "bZavWDaGAGGw",
        "colab_type": "code",
        "colab": {}
      },
      "source": [
        "from matplotlib import pyplot as plt"
      ],
      "execution_count": null,
      "outputs": []
    },
    {
      "cell_type": "code",
      "metadata": {
        "id": "1AER9mSoASnA",
        "colab_type": "code",
        "colab": {
          "base_uri": "https://localhost:8080/",
          "height": 282
        },
        "outputId": "a4e7f214-5fe7-4a5b-b94f-5d273969a478"
      },
      "source": [
        "plt.scatter(table1['x'],table1['y'])"
      ],
      "execution_count": null,
      "outputs": [
        {
          "output_type": "execute_result",
          "data": {
            "text/plain": [
              "<matplotlib.collections.PathCollection at 0x7ff6d504c828>"
            ]
          },
          "metadata": {
            "tags": []
          },
          "execution_count": 14
        },
        {
          "output_type": "display_data",
          "data": {
            "image/png": "[encoded data removed]",
            "text/plain": [
              "<Figure size 432x288 with 1 Axes>"
            ]
          },
          "metadata": {
            "tags": [],
            "needs_background": "light"
          }
        }
      ]
    },
    {
      "cell_type": "markdown",
      "metadata": {
        "id": "Y5OcZ2nFiMu3",
        "colab_type": "text"
      },
      "source": [
        "Centrality ค่ากลาง"
      ]
    },
    {
      "cell_type": "code",
      "metadata": {
        "id": "cUxRtSNkiH3i",
        "colab_type": "code",
        "colab": {
          "base_uri": "https://localhost:8080/",
          "height": 221
        },
        "outputId": "39225abe-7c36-488a-88df-4a6e0c6fc20f"
      },
      "source": [
        "table1['x']"
      ],
      "execution_count": null,
      "outputs": [
        {
          "output_type": "execute_result",
          "data": {
            "text/plain": [
              "0      55.3846\n",
              "1      51.5385\n",
              "2      46.1538\n",
              "3      42.8205\n",
              "4      40.7692\n",
              "        ...   \n",
              "137    39.4872\n",
              "138    91.2821\n",
              "139    50.0000\n",
              "140    47.9487\n",
              "141    44.1026\n",
              "Name: x, Length: 142, dtype: float64"
            ]
          },
          "metadata": {
            "tags": []
          },
          "execution_count": 15
        }
      ]
    },
    {
      "cell_type": "code",
      "metadata": {
        "id": "P6G4357Jjj3Z",
        "colab_type": "code",
        "colab": {
          "base_uri": "https://localhost:8080/",
          "height": 221
        },
        "outputId": "fe509ce5-eac3-455f-c24e-ce257044d494"
      },
      "source": [
        "table1.x"
      ],
      "execution_count": null,
      "outputs": [
        {
          "output_type": "execute_result",
          "data": {
            "text/plain": [
              "0      55.3846\n",
              "1      51.5385\n",
              "2      46.1538\n",
              "3      42.8205\n",
              "4      40.7692\n",
              "        ...   \n",
              "137    39.4872\n",
              "138    91.2821\n",
              "139    50.0000\n",
              "140    47.9487\n",
              "141    44.1026\n",
              "Name: x, Length: 142, dtype: float64"
            ]
          },
          "metadata": {
            "tags": []
          },
          "execution_count": 16
        }
      ]
    },
    {
      "cell_type": "code",
      "metadata": {
        "id": "b6NGIRxJla4_",
        "colab_type": "code",
        "colab": {
          "base_uri": "https://localhost:8080/",
          "height": 297
        },
        "outputId": "b901088e-e974-4416-835f-6875c728173c"
      },
      "source": [
        "table1.describe()"
      ],
      "execution_count": null,
      "outputs": [
        {
          "output_type": "execute_result",
          "data": {
            "text/html": [
              "<div>\n",
              "<style scoped>\n",
              "    .dataframe tbody tr th:only-of-type {\n",
              "        vertical-align: middle;\n",
              "    }\n",
              "\n",
              "    .dataframe tbody tr th {\n",
              "        vertical-align: top;\n",
              "    }\n",
              "\n",
              "    .dataframe thead th {\n",
              "        text-align: right;\n",
              "    }\n",
              "</style>\n",
              "<table border=\"1\" class=\"dataframe\">\n",
              "  <thead>\n",
              "    <tr style=\"text-align: right;\">\n",
              "      <th></th>\n",
              "      <th>Unnamed: 0</th>\n",
              "      <th>x</th>\n",
              "      <th>y</th>\n",
              "    </tr>\n",
              "  </thead>\n",
              "  <tbody>\n",
              "    <tr>\n",
              "      <th>count</th>\n",
              "      <td>142.000000</td>\n",
              "      <td>142.000000</td>\n",
              "      <td>142.000000</td>\n",
              "    </tr>\n",
              "    <tr>\n",
              "      <th>mean</th>\n",
              "      <td>70.500000</td>\n",
              "      <td>54.263273</td>\n",
              "      <td>47.832253</td>\n",
              "    </tr>\n",
              "    <tr>\n",
              "      <th>std</th>\n",
              "      <td>41.135953</td>\n",
              "      <td>16.765142</td>\n",
              "      <td>26.935403</td>\n",
              "    </tr>\n",
              "    <tr>\n",
              "      <th>min</th>\n",
              "      <td>0.000000</td>\n",
              "      <td>22.307700</td>\n",
              "      <td>2.948700</td>\n",
              "    </tr>\n",
              "    <tr>\n",
              "      <th>25%</th>\n",
              "      <td>35.250000</td>\n",
              "      <td>44.102600</td>\n",
              "      <td>25.288450</td>\n",
              "    </tr>\n",
              "    <tr>\n",
              "      <th>50%</th>\n",
              "      <td>70.500000</td>\n",
              "      <td>53.333300</td>\n",
              "      <td>46.025600</td>\n",
              "    </tr>\n",
              "    <tr>\n",
              "      <th>75%</th>\n",
              "      <td>105.750000</td>\n",
              "      <td>64.743600</td>\n",
              "      <td>68.525675</td>\n",
              "    </tr>\n",
              "    <tr>\n",
              "      <th>max</th>\n",
              "      <td>141.000000</td>\n",
              "      <td>98.205100</td>\n",
              "      <td>99.487200</td>\n",
              "    </tr>\n",
              "  </tbody>\n",
              "</table>\n",
              "</div>"
            ],
            "text/plain": [
              "       Unnamed: 0           x           y\n",
              "count  142.000000  142.000000  142.000000\n",
              "mean    70.500000   54.263273   47.832253\n",
              "std     41.135953   16.765142   26.935403\n",
              "min      0.000000   22.307700    2.948700\n",
              "25%     35.250000   44.102600   25.288450\n",
              "50%     70.500000   53.333300   46.025600\n",
              "75%    105.750000   64.743600   68.525675\n",
              "max    141.000000   98.205100   99.487200"
            ]
          },
          "metadata": {
            "tags": []
          },
          "execution_count": 17
        }
      ]
    },
    {
      "cell_type": "code",
      "metadata": {
        "id": "Oq3AIiNksg5b",
        "colab_type": "code",
        "colab": {
          "base_uri": "https://localhost:8080/",
          "height": 297
        },
        "outputId": "edc77793-be17-419e-8db9-dc8e705747bc"
      },
      "source": [
        "data.describe()"
      ],
      "execution_count": 14,
      "outputs": [
        {
          "output_type": "execute_result",
          "data": {
            "text/html": [
              "<div>\n",
              "<style scoped>\n",
              "    .dataframe tbody tr th:only-of-type {\n",
              "        vertical-align: middle;\n",
              "    }\n",
              "\n",
              "    .dataframe tbody tr th {\n",
              "        vertical-align: top;\n",
              "    }\n",
              "\n",
              "    .dataframe thead th {\n",
              "        text-align: right;\n",
              "    }\n",
              "</style>\n",
              "<table border=\"1\" class=\"dataframe\">\n",
              "  <thead>\n",
              "    <tr style=\"text-align: right;\">\n",
              "      <th></th>\n",
              "      <th>Unnamed: 0</th>\n",
              "      <th>x</th>\n",
              "      <th>y</th>\n",
              "    </tr>\n",
              "  </thead>\n",
              "  <tbody>\n",
              "    <tr>\n",
              "      <th>count</th>\n",
              "      <td>142.000000</td>\n",
              "      <td>142.000000</td>\n",
              "      <td>142.000000</td>\n",
              "    </tr>\n",
              "    <tr>\n",
              "      <th>mean</th>\n",
              "      <td>70.500000</td>\n",
              "      <td>54.263273</td>\n",
              "      <td>47.832253</td>\n",
              "    </tr>\n",
              "    <tr>\n",
              "      <th>std</th>\n",
              "      <td>41.135953</td>\n",
              "      <td>16.765142</td>\n",
              "      <td>26.935403</td>\n",
              "    </tr>\n",
              "    <tr>\n",
              "      <th>min</th>\n",
              "      <td>0.000000</td>\n",
              "      <td>22.307700</td>\n",
              "      <td>2.948700</td>\n",
              "    </tr>\n",
              "    <tr>\n",
              "      <th>25%</th>\n",
              "      <td>35.250000</td>\n",
              "      <td>44.102600</td>\n",
              "      <td>25.288450</td>\n",
              "    </tr>\n",
              "    <tr>\n",
              "      <th>50%</th>\n",
              "      <td>70.500000</td>\n",
              "      <td>53.333300</td>\n",
              "      <td>46.025600</td>\n",
              "    </tr>\n",
              "    <tr>\n",
              "      <th>75%</th>\n",
              "      <td>105.750000</td>\n",
              "      <td>64.743600</td>\n",
              "      <td>68.525675</td>\n",
              "    </tr>\n",
              "    <tr>\n",
              "      <th>max</th>\n",
              "      <td>141.000000</td>\n",
              "      <td>98.205100</td>\n",
              "      <td>99.487200</td>\n",
              "    </tr>\n",
              "  </tbody>\n",
              "</table>\n",
              "</div>"
            ],
            "text/plain": [
              "       Unnamed: 0           x           y\n",
              "count  142.000000  142.000000  142.000000\n",
              "mean    70.500000   54.263273   47.832253\n",
              "std     41.135953   16.765142   26.935403\n",
              "min      0.000000   22.307700    2.948700\n",
              "25%     35.250000   44.102600   25.288450\n",
              "50%     70.500000   53.333300   46.025600\n",
              "75%    105.750000   64.743600   68.525675\n",
              "max    141.000000   98.205100   99.487200"
            ]
          },
          "metadata": {
            "tags": []
          },
          "execution_count": 14
        }
      ]
    },
    {
      "cell_type": "code",
      "metadata": {
        "id": "pxmVm-dGrj9n",
        "colab_type": "code",
        "colab": {}
      },
      "source": [
        "from matplotlib import pyplot as plt"
      ],
      "execution_count": 19,
      "outputs": []
    },
    {
      "cell_type": "code",
      "metadata": {
        "colab_type": "code",
        "id": "97pHa-kluGbz",
        "colab": {
          "base_uri": "https://localhost:8080/",
          "height": 401
        },
        "outputId": "080df37d-ed8f-42e3-8396-6560765c5872"
      },
      "source": [
        "plt.boxplot(data['x'],vert=False)"
      ],
      "execution_count": 23,
      "outputs": [
        {
          "output_type": "execute_result",
          "data": {
            "text/plain": [
              "{'boxes': [<matplotlib.lines.Line2D at 0x7f7b1e69c240>],\n",
              " 'caps': [<matplotlib.lines.Line2D at 0x7f7b1e69cc50>,\n",
              "  <matplotlib.lines.Line2D at 0x7f7b1e69cfd0>],\n",
              " 'fliers': [<matplotlib.lines.Line2D at 0x7f7b1e628710>],\n",
              " 'means': [],\n",
              " 'medians': [<matplotlib.lines.Line2D at 0x7f7b1e628390>],\n",
              " 'whiskers': [<matplotlib.lines.Line2D at 0x7f7b1e69c550>,\n",
              "  <matplotlib.lines.Line2D at 0x7f7b1e69c8d0>]}"
            ]
          },
          "metadata": {
            "tags": []
          },
          "execution_count": 23
        },
        {
          "output_type": "display_data",
          "data": {
            "image/png": "[encoded data removed]",
            "text/plain": [
              "<Figure size 432x288 with 1 Axes>"
            ]
          },
          "metadata": {
            "tags": [],
            "needs_background": "light"
          }
        }
      ]
    },
    {
      "cell_type": "code",
      "metadata": {
        "id": "8LOmMIe-s0M-",
        "colab_type": "code",
        "colab": {
          "base_uri": "https://localhost:8080/",
          "height": 401
        },
        "outputId": "916896ad-8206-4acb-d404-bd31eb52db68"
      },
      "source": [
        "plt.boxplot(data['x'],vert=False,whis=1.2)"
      ],
      "execution_count": 22,
      "outputs": [
        {
          "output_type": "execute_result",
          "data": {
            "text/plain": [
              "{'boxes': [<matplotlib.lines.Line2D at 0x7f7b1e6a7fd0>],\n",
              " 'caps': [<matplotlib.lines.Line2D at 0x7f7b1e6b3a20>,\n",
              "  <matplotlib.lines.Line2D at 0x7f7b1e6b3da0>],\n",
              " 'fliers': [<matplotlib.lines.Line2D at 0x7f7b1e6c04e0>],\n",
              " 'means': [],\n",
              " 'medians': [<matplotlib.lines.Line2D at 0x7f7b1e6c0160>],\n",
              " 'whiskers': [<matplotlib.lines.Line2D at 0x7f7b1e6b3320>,\n",
              "  <matplotlib.lines.Line2D at 0x7f7b1e6b36a0>]}"
            ]
          },
          "metadata": {
            "tags": []
          },
          "execution_count": 22
        },
        {
          "output_type": "display_data",
          "data": {
            "image/png": "[encoded data removed]",
            "text/plain": [
              "<Figure size 432x288 with 1 Axes>"
            ]
          },
          "metadata": {
            "tags": [],
            "needs_background": "light"
          }
        }
      ]
    },
    {
      "cell_type": "code",
      "metadata": {
        "colab_type": "code",
        "id": "Qd3qZeXSuT2N",
        "colab": {
          "base_uri": "https://localhost:8080/",
          "height": 265
        },
        "outputId": "f656f886-8ac9-4ffb-ff61-3e6a083a2307"
      },
      "source": [
        "oput=plt.boxplot(data['x'],vert=False,whis=1.2)"
      ],
      "execution_count": 24,
      "outputs": [
        {
          "output_type": "display_data",
          "data": {
            "image/png": "[encoded data removed]",
            "text/plain": [
              "<Figure size 432x288 with 1 Axes>"
            ]
          },
          "metadata": {
            "tags": [],
            "needs_background": "light"
          }
        }
      ]
    },
    {
      "cell_type": "code",
      "metadata": {
        "id": "R-NXnNZTv499",
        "colab_type": "code",
        "colab": {
          "base_uri": "https://localhost:8080/",
          "height": 34
        },
        "outputId": "1d32f5fb-db78-4d48-893a-af7a3189f946"
      },
      "source": [
        "oput['fliers'][0].get_xdata()"
      ],
      "execution_count": 25,
      "outputs": [
        {
          "output_type": "execute_result",
          "data": {
            "text/plain": [
              "array([93.3333, 95.3846, 98.2051, 91.2821])"
            ]
          },
          "metadata": {
            "tags": []
          },
          "execution_count": 25
        }
      ]
    },
    {
      "cell_type": "code",
      "metadata": {
        "colab_type": "code",
        "id": "WPcGgJpxwPaA",
        "colab": {
          "base_uri": "https://localhost:8080/",
          "height": 34
        },
        "outputId": "b89f9e6f-79c4-4c06-ab42-137fd181061f"
      },
      "source": [
        "oput['whiskers'][0].get_xdata()"
      ],
      "execution_count": 26,
      "outputs": [
        {
          "output_type": "execute_result",
          "data": {
            "text/plain": [
              "array([44.1026, 22.3077])"
            ]
          },
          "metadata": {
            "tags": []
          },
          "execution_count": 26
        }
      ]
    },
    {
      "cell_type": "code",
      "metadata": {
        "colab_type": "code",
        "id": "dkX_B-yywbB5",
        "colab": {
          "base_uri": "https://localhost:8080/",
          "height": 34
        },
        "outputId": "3fe29d53-21ee-42f0-b777-dcf870cf2809"
      },
      "source": [
        "oput['whiskers'][1].get_xdata()"
      ],
      "execution_count": 27,
      "outputs": [
        {
          "output_type": "execute_result",
          "data": {
            "text/plain": [
              "array([64.7436, 89.4872])"
            ]
          },
          "metadata": {
            "tags": []
          },
          "execution_count": 27
        }
      ]
    },
    {
      "cell_type": "code",
      "metadata": {
        "id": "XzI_eAj4xAnn",
        "colab_type": "code",
        "colab": {
          "base_uri": "https://localhost:8080/",
          "height": 282
        },
        "outputId": "8d36ead8-fac4-4963-e894-f42e4bda03f8"
      },
      "source": [
        "plt.scatter(data['x'],data['y'])"
      ],
      "execution_count": 30,
      "outputs": [
        {
          "output_type": "execute_result",
          "data": {
            "text/plain": [
              "<matplotlib.collections.PathCollection at 0x7f7b1e700cf8>"
            ]
          },
          "metadata": {
            "tags": []
          },
          "execution_count": 30
        },
        {
          "output_type": "display_data",
          "data": {
            "image/png": "[encoded data removed]",
            "text/plain": [
              "<Figure size 432x288 with 1 Axes>"
            ]
          },
          "metadata": {
            "tags": [],
            "needs_background": "light"
          }
        }
      ]
    },
    {
      "cell_type": "markdown",
      "metadata": {
        "id": "9hgzlq6enbZN",
        "colab_type": "text"
      },
      "source": [
        "Python Data Structure"
      ]
    },
    {
      "cell_type": "markdown",
      "metadata": {
        "id": "5cVK1w3Znslt",
        "colab_type": "text"
      },
      "source": [
        "Variable"
      ]
    },
    {
      "cell_type": "code",
      "metadata": {
        "id": "eCchZCbOnvne",
        "colab_type": "code",
        "colab": {}
      },
      "source": [
        "a=1\n",
        "b=3"
      ],
      "execution_count": null,
      "outputs": []
    },
    {
      "cell_type": "code",
      "metadata": {
        "id": "rsZQmYx2n0By",
        "colab_type": "code",
        "colab": {}
      },
      "source": [
        "c=a+b"
      ],
      "execution_count": null,
      "outputs": []
    },
    {
      "cell_type": "code",
      "metadata": {
        "id": "-G8t0oa8n3Wb",
        "colab_type": "code",
        "colab": {
          "base_uri": "https://localhost:8080/",
          "height": 34
        },
        "outputId": "4e30849c-97ce-4617-b454-03a70fe4d94d"
      },
      "source": [
        "c"
      ],
      "execution_count": null,
      "outputs": [
        {
          "output_type": "execute_result",
          "data": {
            "text/plain": [
              "4"
            ]
          },
          "metadata": {
            "tags": []
          },
          "execution_count": 20
        }
      ]
    },
    {
      "cell_type": "code",
      "metadata": {
        "id": "mCUsLSH3n507",
        "colab_type": "code",
        "colab": {}
      },
      "source": [
        "name='a'"
      ],
      "execution_count": null,
      "outputs": []
    },
    {
      "cell_type": "code",
      "metadata": {
        "id": "QOP3YExVn9NW",
        "colab_type": "code",
        "colab": {
          "base_uri": "https://localhost:8080/",
          "height": 34
        },
        "outputId": "d4c8463e-552d-4006-e127-0d9599d9057d"
      },
      "source": [
        "name"
      ],
      "execution_count": null,
      "outputs": [
        {
          "output_type": "execute_result",
          "data": {
            "application/vnd.google.colaboratory.intrinsic+json": {
              "type": "string"
            },
            "text/plain": [
              "'a'"
            ]
          },
          "metadata": {
            "tags": []
          },
          "execution_count": 22
        }
      ]
    },
    {
      "cell_type": "code",
      "metadata": {
        "id": "HjCm9nunoAuu",
        "colab_type": "code",
        "colab": {}
      },
      "source": [
        "one='1'"
      ],
      "execution_count": null,
      "outputs": []
    },
    {
      "cell_type": "code",
      "metadata": {
        "id": "hWHt6zT6oD83",
        "colab_type": "code",
        "colab": {
          "base_uri": "https://localhost:8080/",
          "height": 164
        },
        "outputId": "d507dee0-41c0-4de6-c99d-b645d0844216"
      },
      "source": [
        "a+one"
      ],
      "execution_count": null,
      "outputs": [
        {
          "output_type": "error",
          "ename": "TypeError",
          "evalue": "ignored",
          "traceback": [
            "\u001b[0;31m---------------------------------------------------------------------------\u001b[0m",
            "\u001b[0;31mTypeError\u001b[0m                                 Traceback (most recent call last)",
            "\u001b[0;32m<ipython-input-24-89f1bb92b476>\u001b[0m in \u001b[0;36m<module>\u001b[0;34m()\u001b[0m\n\u001b[0;32m----> 1\u001b[0;31m \u001b[0ma\u001b[0m\u001b[0;34m+\u001b[0m\u001b[0mone\u001b[0m\u001b[0;34m\u001b[0m\u001b[0;34m\u001b[0m\u001b[0m\n\u001b[0m",
            "\u001b[0;31mTypeError\u001b[0m: unsupported operand type(s) for +: 'int' and 'str'"
          ]
        }
      ]
    },
    {
      "cell_type": "code",
      "metadata": {
        "id": "_eSAjdMToPX2",
        "colab_type": "code",
        "colab": {}
      },
      "source": [
        "a+int(one)"
      ],
      "execution_count": null,
      "outputs": []
    },
    {
      "cell_type": "code",
      "metadata": {
        "id": "6s6nU39ypLiY",
        "colab_type": "code",
        "colab": {}
      },
      "source": [
        "num='112.76'"
      ],
      "execution_count": null,
      "outputs": []
    },
    {
      "cell_type": "code",
      "metadata": {
        "id": "YE2lt_pGpLcC",
        "colab_type": "code",
        "colab": {}
      },
      "source": [
        "int(num)"
      ],
      "execution_count": null,
      "outputs": []
    },
    {
      "cell_type": "code",
      "metadata": {
        "id": "OBWh7DrLpfHr",
        "colab_type": "code",
        "colab": {}
      },
      "source": [
        "float(num)"
      ],
      "execution_count": null,
      "outputs": []
    },
    {
      "cell_type": "code",
      "metadata": {
        "id": "5DFxoxg7pjZp",
        "colab_type": "code",
        "colab": {}
      },
      "source": [
        "str(float(num))"
      ],
      "execution_count": null,
      "outputs": []
    },
    {
      "cell_type": "markdown",
      "metadata": {
        "id": "E4uoRY-dq-a9",
        "colab_type": "text"
      },
      "source": [
        "HW เปลี่ยนค่าnum2='112.76887'เป็นเลขจำนวนเต็ม112ด้วยfunction casting(int() float() str())เท่านั้น"
      ]
    },
    {
      "cell_type": "code",
      "metadata": {
        "id": "E0wLQ1aqqf9g",
        "colab_type": "code",
        "colab": {}
      },
      "source": [
        "num2='112.76887'"
      ],
      "execution_count": null,
      "outputs": []
    },
    {
      "cell_type": "markdown",
      "metadata": {
        "id": "C0DuhpO9X8n4",
        "colab_type": "text"
      },
      "source": [
        "รัน float ก่อน พอรันแล้วจะสามารถเปลี่ยนเป็น int ได้"
      ]
    },
    {
      "cell_type": "code",
      "metadata": {
        "id": "MtnDbaeFYSmU",
        "colab_type": "code",
        "colab": {
          "base_uri": "https://localhost:8080/",
          "height": 34
        },
        "outputId": "66da5926-709d-4b73-b9cc-600b10ab6a97"
      },
      "source": [
        "float(num2)"
      ],
      "execution_count": null,
      "outputs": [
        {
          "output_type": "execute_result",
          "data": {
            "text/plain": [
              "112.76887"
            ]
          },
          "metadata": {
            "tags": []
          },
          "execution_count": 26
        }
      ]
    },
    {
      "cell_type": "code",
      "metadata": {
        "id": "UQNGrnFsYhvC",
        "colab_type": "code",
        "colab": {
          "base_uri": "https://localhost:8080/",
          "height": 34
        },
        "outputId": "c2e94711-1a87-4f95-af2f-b74912914072"
      },
      "source": [
        "int(float(num2))"
      ],
      "execution_count": null,
      "outputs": [
        {
          "output_type": "execute_result",
          "data": {
            "text/plain": [
              "112"
            ]
          },
          "metadata": {
            "tags": []
          },
          "execution_count": 27
        }
      ]
    },
    {
      "cell_type": "markdown",
      "metadata": {
        "id": "4W8BQ_DWJk6e",
        "colab_type": "text"
      },
      "source": [
        "list()"
      ]
    },
    {
      "cell_type": "markdown",
      "metadata": {
        "id": "D65I_XR8JpH2",
        "colab_type": "text"
      },
      "source": [
        "การสร้าง list"
      ]
    },
    {
      "cell_type": "code",
      "metadata": {
        "id": "q9IrzNR_Jnm3",
        "colab_type": "code",
        "colab": {}
      },
      "source": [
        "list_a=[1,3,7,19]"
      ],
      "execution_count": null,
      "outputs": []
    },
    {
      "cell_type": "markdown",
      "metadata": {
        "id": "c8ITZz7YJy7T",
        "colab_type": "text"
      },
      "source": [
        "วิธีเข้าไปเลือกค่าใน list"
      ]
    },
    {
      "cell_type": "code",
      "metadata": {
        "id": "VTSsGqxxJ59f",
        "colab_type": "code",
        "colab": {
          "base_uri": "https://localhost:8080/",
          "height": 34
        },
        "outputId": "592bae00-1457-41d2-b125-17844169d474"
      },
      "source": [
        "list_a[0]"
      ],
      "execution_count": null,
      "outputs": [
        {
          "output_type": "execute_result",
          "data": {
            "text/plain": [
              "1"
            ]
          },
          "metadata": {
            "tags": []
          },
          "execution_count": 29
        }
      ]
    },
    {
      "cell_type": "markdown",
      "metadata": {
        "id": "dZfb7eiiKCWu",
        "colab_type": "text"
      },
      "source": [
        "อยากรู้ว่าตัวสุดท้ายของ list คือเท่าไหร่ จะใช้วิธี -1 ถ้าลองสุดท้ายจะใช้ -2"
      ]
    },
    {
      "cell_type": "code",
      "metadata": {
        "id": "-3Sv2ozgKBqZ",
        "colab_type": "code",
        "colab": {
          "base_uri": "https://localhost:8080/",
          "height": 34
        },
        "outputId": "ec493c20-92de-4028-fead-158a73e12cad"
      },
      "source": [
        "list_a[-1]"
      ],
      "execution_count": null,
      "outputs": [
        {
          "output_type": "execute_result",
          "data": {
            "text/plain": [
              "19"
            ]
          },
          "metadata": {
            "tags": []
          },
          "execution_count": 30
        }
      ]
    },
    {
      "cell_type": "markdown",
      "metadata": {
        "id": "EnehrEE1KgnT",
        "colab_type": "text"
      },
      "source": [
        "len คือ ความยาวของ list ว่ามีสมาชิกกี่ตัว"
      ]
    },
    {
      "cell_type": "code",
      "metadata": {
        "id": "b6x3uvfWKqY0",
        "colab_type": "code",
        "colab": {
          "base_uri": "https://localhost:8080/",
          "height": 34
        },
        "outputId": "2979f0b1-f235-448d-a2ce-44370d2dd21c"
      },
      "source": [
        "len(list_a)"
      ],
      "execution_count": null,
      "outputs": [
        {
          "output_type": "execute_result",
          "data": {
            "text/plain": [
              "4"
            ]
          },
          "metadata": {
            "tags": []
          },
          "execution_count": 31
        }
      ]
    },
    {
      "cell_type": "markdown",
      "metadata": {
        "id": "xUHWjNN3Kyw2",
        "colab_type": "text"
      },
      "source": [
        "ความสามารถอีกอย่างของ list คือ สามารถใส่ค่าอะไรก็ได้โดยไม่จำเป็นต้องเป็นตัวเลขเพียงอย่างเดียว"
      ]
    },
    {
      "cell_type": "code",
      "metadata": {
        "id": "72Ir9ZwnLBiN",
        "colab_type": "code",
        "colab": {}
      },
      "source": [
        "list_b=[1,4,'thai',['a',3,9]]"
      ],
      "execution_count": null,
      "outputs": []
    },
    {
      "cell_type": "markdown",
      "metadata": {
        "id": "XkZKqreCLPes",
        "colab_type": "text"
      },
      "source": [
        "list ซ้อน list"
      ]
    },
    {
      "cell_type": "code",
      "metadata": {
        "id": "415XQsrQLTIr",
        "colab_type": "code",
        "colab": {
          "base_uri": "https://localhost:8080/",
          "height": 34
        },
        "outputId": "5fb2fc13-09b5-48a8-b6f9-f1280af37818"
      },
      "source": [
        "list_b[-1][0]"
      ],
      "execution_count": null,
      "outputs": [
        {
          "output_type": "execute_result",
          "data": {
            "application/vnd.google.colaboratory.intrinsic+json": {
              "type": "string"
            },
            "text/plain": [
              "'a'"
            ]
          },
          "metadata": {
            "tags": []
          },
          "execution_count": 34
        }
      ]
    },
    {
      "cell_type": "markdown",
      "metadata": {
        "id": "DABDHaJTL12_",
        "colab_type": "text"
      },
      "source": [
        "สำหรับ list จะมีแค่เครื่องหมายบวกอย่างเดียว คือ การเอา list มาต่อการ"
      ]
    },
    {
      "cell_type": "code",
      "metadata": {
        "id": "trqyY9c3MCSg",
        "colab_type": "code",
        "colab": {
          "base_uri": "https://localhost:8080/",
          "height": 34
        },
        "outputId": "0f67e5d6-d34a-4683-d176-6aa278cdb237"
      },
      "source": [
        "list_c=list_a+list_b\n",
        "list_c"
      ],
      "execution_count": null,
      "outputs": [
        {
          "output_type": "execute_result",
          "data": {
            "text/plain": [
              "[1, 3, 7, 19, 1, 4, 'thai', ['a', 3, 9]]"
            ]
          },
          "metadata": {
            "tags": []
          },
          "execution_count": 35
        }
      ]
    },
    {
      "cell_type": "markdown",
      "metadata": {
        "id": "o8vzS2PFMXdo",
        "colab_type": "text"
      },
      "source": [
        "วิธีสร้าง list แบบง่ายๆ มี 2 แบบ 1.เราจะใส่ชื่อตัวแปล และเริ่มต้นด้วย list ว่างก่อน 2. ใช้คำที่เขามีการรีเสิร์ชไว้"
      ]
    },
    {
      "cell_type": "code",
      "metadata": {
        "id": "J8xSiznOMtpu",
        "colab_type": "code",
        "colab": {}
      },
      "source": [
        "list_a1=[]"
      ],
      "execution_count": null,
      "outputs": []
    },
    {
      "cell_type": "code",
      "metadata": {
        "id": "rujBzBn7M75V",
        "colab_type": "code",
        "colab": {}
      },
      "source": [
        "list_a2=list()"
      ],
      "execution_count": null,
      "outputs": []
    },
    {
      "cell_type": "markdown",
      "metadata": {
        "id": "-36liGe3NA3G",
        "colab_type": "text"
      },
      "source": [
        "วิธีเพิ่มสมาชิกเข้าไปใน list ว่าง โดยการใส่ .append คือการเพิ่มสมาชิกต่อท้าย list ไปเรื่อยๆ"
      ]
    },
    {
      "cell_type": "code",
      "metadata": {
        "id": "ziLeM6EKNRCO",
        "colab_type": "code",
        "colab": {
          "base_uri": "https://localhost:8080/",
          "height": 34
        },
        "outputId": "1ee92d90-e1a0-4e34-96e2-3c5b8e4ea07a"
      },
      "source": [
        "list_a1.append(666)\n",
        "list_a1"
      ],
      "execution_count": null,
      "outputs": [
        {
          "output_type": "execute_result",
          "data": {
            "text/plain": [
              "[666]"
            ]
          },
          "metadata": {
            "tags": []
          },
          "execution_count": 38
        }
      ]
    },
    {
      "cell_type": "code",
      "metadata": {
        "id": "vkAgz5i4NbL0",
        "colab_type": "code",
        "colab": {
          "base_uri": "https://localhost:8080/",
          "height": 51
        },
        "outputId": "5abe8393-4099-4373-bc25-1d498ce242e8"
      },
      "source": [
        "print(list_c)\n",
        "list_c.append(1234)\n",
        "print(list_c)"
      ],
      "execution_count": null,
      "outputs": [
        {
          "output_type": "stream",
          "text": [
            "[1, 3, 7, 19, 1, 4, 'thai', ['a', 3, 9]]\n",
            "[1, 3, 7, 19, 1, 4, 'thai', ['a', 3, 9], 1234]\n"
          ],
          "name": "stdout"
        }
      ]
    },
    {
      "cell_type": "markdown",
      "metadata": {
        "id": "dxDRjJ50OqqY",
        "colab_type": "text"
      },
      "source": [
        "### string is a list of characters"
      ]
    },
    {
      "cell_type": "code",
      "metadata": {
        "id": "gOVAQH2MOo3f",
        "colab_type": "code",
        "colab": {}
      },
      "source": [
        "word_a='statistics KKU'"
      ],
      "execution_count": null,
      "outputs": []
    },
    {
      "cell_type": "markdown",
      "metadata": {
        "id": "DjVahEo8PLsq",
        "colab_type": "text"
      },
      "source": [
        "วิธีเรียกค่าตัว d โดยการกด a [-1]"
      ]
    },
    {
      "cell_type": "code",
      "metadata": {
        "id": "zBGIbwO2PX2n",
        "colab_type": "code",
        "colab": {
          "base_uri": "https://localhost:8080/",
          "height": 34
        },
        "outputId": "07d88c81-3ef0-4a0f-ad16-d735eca4c293"
      },
      "source": [
        "word_a[-1]"
      ],
      "execution_count": null,
      "outputs": [
        {
          "output_type": "execute_result",
          "data": {
            "application/vnd.google.colaboratory.intrinsic+json": {
              "type": "string"
            },
            "text/plain": [
              "'U'"
            ]
          },
          "metadata": {
            "tags": []
          },
          "execution_count": 51
        }
      ]
    },
    {
      "cell_type": "code",
      "metadata": {
        "id": "m8-NFz_SPjFf",
        "colab_type": "code",
        "colab": {
          "base_uri": "https://localhost:8080/",
          "height": 34
        },
        "outputId": "57c1e780-aeb5-4a12-ea35-3abfcce66871"
      },
      "source": [
        "word_a+' Thailand'"
      ],
      "execution_count": null,
      "outputs": [
        {
          "output_type": "execute_result",
          "data": {
            "application/vnd.google.colaboratory.intrinsic+json": {
              "type": "string"
            },
            "text/plain": [
              "'statistics KKU Thailand'"
            ]
          },
          "metadata": {
            "tags": []
          },
          "execution_count": 52
        }
      ]
    },
    {
      "cell_type": "code",
      "metadata": {
        "id": "dXMU0i_qP4SF",
        "colab_type": "code",
        "colab": {
          "base_uri": "https://localhost:8080/",
          "height": 34
        },
        "outputId": "939d328f-1965-4a4c-9fb4-b12360611ac6"
      },
      "source": [
        "len(word_a)"
      ],
      "execution_count": null,
      "outputs": [
        {
          "output_type": "execute_result",
          "data": {
            "text/plain": [
              "14"
            ]
          },
          "metadata": {
            "tags": []
          },
          "execution_count": 53
        }
      ]
    },
    {
      "cell_type": "markdown",
      "metadata": {
        "id": "FyFZcT3BQKRy",
        "colab_type": "text"
      },
      "source": [
        "ความสามารถพิเศษของสตริง คือสามารถแทรกตัวแปรลงไปในสติงได้"
      ]
    },
    {
      "cell_type": "code",
      "metadata": {
        "id": "rGgr7Ax2SnaO",
        "colab_type": "code",
        "colab": {
          "base_uri": "https://localhost:8080/",
          "height": 34
        },
        "outputId": "f9aedd6f-00e8-4b41-fcf6-e3f80c554b9a"
      },
      "source": [
        "st_x=f'list_c={list_c}'\n",
        "st_x"
      ],
      "execution_count": null,
      "outputs": [
        {
          "output_type": "execute_result",
          "data": {
            "application/vnd.google.colaboratory.intrinsic+json": {
              "type": "string"
            },
            "text/plain": [
              "\"list_c=[1, 3, 7, 19, 1, 4, 'thai', ['a', 3, 9], 1234]\""
            ]
          },
          "metadata": {
            "tags": []
          },
          "execution_count": 57
        }
      ]
    },
    {
      "cell_type": "code",
      "metadata": {
        "id": "7Ern-LErQSkQ",
        "colab_type": "code",
        "colab": {
          "base_uri": "https://localhost:8080/",
          "height": 34
        },
        "outputId": "9ee057f8-6815-4757-aef3-112352e97dad"
      },
      "source": [
        "f'list_c={list_c}'"
      ],
      "execution_count": null,
      "outputs": [
        {
          "output_type": "execute_result",
          "data": {
            "application/vnd.google.colaboratory.intrinsic+json": {
              "type": "string"
            },
            "text/plain": [
              "\"list_c=[1, 3, 7, 19, 1, 4, 'thai', ['a', 3, 9], 1234]\""
            ]
          },
          "metadata": {
            "tags": []
          },
          "execution_count": 58
        }
      ]
    },
    {
      "cell_type": "code",
      "metadata": {
        "id": "E9lCaxRDQgdm",
        "colab_type": "code",
        "colab": {
          "base_uri": "https://localhost:8080/",
          "height": 34
        },
        "outputId": "c83303b2-c14e-404b-dac3-7bf18339acd8"
      },
      "source": [
        "f'modulo example -> 4 mod 3={4%3}'"
      ],
      "execution_count": null,
      "outputs": [
        {
          "output_type": "execute_result",
          "data": {
            "application/vnd.google.colaboratory.intrinsic+json": {
              "type": "string"
            },
            "text/plain": [
              "'modulo example -> 4 mod 3=1'"
            ]
          },
          "metadata": {
            "tags": []
          },
          "execution_count": 59
        }
      ]
    },
    {
      "cell_type": "markdown",
      "metadata": {
        "id": "h10HZxiARhUd",
        "colab_type": "text"
      },
      "source": [
        "สิ่งที่เจอบ่อยสำหรับ สตริง คำสั่งนั้นคือ split"
      ]
    },
    {
      "cell_type": "code",
      "metadata": {
        "id": "smphaxM7SA1v",
        "colab_type": "code",
        "colab": {
          "base_uri": "https://localhost:8080/",
          "height": 51
        },
        "outputId": "9879e285-265d-4393-d851-59dc87bf13fa"
      },
      "source": [
        "print(st_x)\n",
        "st_x.split(', ')"
      ],
      "execution_count": null,
      "outputs": [
        {
          "output_type": "stream",
          "text": [
            "list_c=[1, 3, 7, 19, 1, 4, 'thai', ['a', 3, 9], 1234]\n"
          ],
          "name": "stdout"
        },
        {
          "output_type": "execute_result",
          "data": {
            "text/plain": [
              "['list_c=[1', '3', '7', '19', '1', '4', \"'thai'\", \"['a'\", '3', '9]', '1234]']"
            ]
          },
          "metadata": {
            "tags": []
          },
          "execution_count": 63
        }
      ]
    },
    {
      "cell_type": "code",
      "metadata": {
        "id": "Bz8dxoZHTFFe",
        "colab_type": "code",
        "colab": {
          "base_uri": "https://localhost:8080/",
          "height": 221
        },
        "outputId": "d0d30b03-94a5-4a68-e265-a0eb23de0392"
      },
      "source": [
        "print(st_x)\n",
        "st_x.split()"
      ],
      "execution_count": null,
      "outputs": [
        {
          "output_type": "stream",
          "text": [
            "list_c=[1, 3, 7, 19, 1, 4, 'thai', ['a', 3, 9], 1234]\n"
          ],
          "name": "stdout"
        },
        {
          "output_type": "execute_result",
          "data": {
            "text/plain": [
              "['list_c=[1,',\n",
              " '3,',\n",
              " '7,',\n",
              " '19,',\n",
              " '1,',\n",
              " '4,',\n",
              " \"'thai',\",\n",
              " \"['a',\",\n",
              " '3,',\n",
              " '9],',\n",
              " '1234]']"
            ]
          },
          "metadata": {
            "tags": []
          },
          "execution_count": 62
        }
      ]
    },
    {
      "cell_type": "markdown",
      "metadata": {
        "id": "5ajLDtohTw_6",
        "colab_type": "text"
      },
      "source": [
        "###Loop"
      ]
    },
    {
      "cell_type": "markdown",
      "metadata": {
        "id": "yqg2F_fHT08j",
        "colab_type": "text"
      },
      "source": [
        "การวนลูปในไพทอน"
      ]
    },
    {
      "cell_type": "code",
      "metadata": {
        "id": "w7ybs5AJTN5U",
        "colab_type": "code",
        "colab": {
          "base_uri": "https://localhost:8080/",
          "height": 153
        },
        "outputId": "b678fe5b-75ab-49a3-c96b-c06809e1a2fd"
      },
      "source": [
        "for i in [1,2,3,4]:\n",
        "    print(f'first line {i}')\n",
        "    print(f'second line {2*i}')"
      ],
      "execution_count": null,
      "outputs": [
        {
          "output_type": "stream",
          "text": [
            "first line 1\n",
            "second line 2\n",
            "first line 2\n",
            "second line 4\n",
            "first line 3\n",
            "second line 6\n",
            "first line 4\n",
            "second line 8\n"
          ],
          "name": "stdout"
        }
      ]
    },
    {
      "cell_type": "code",
      "metadata": {
        "id": "s3ex7q3FUVUs",
        "colab_type": "code",
        "colab": {
          "base_uri": "https://localhost:8080/",
          "height": 85
        },
        "outputId": "b9308cab-59c4-4c87-9478-ef84ff667aee"
      },
      "source": [
        "for i in [1,2,3,4]:\n",
        "    print('HaHaHa')"
      ],
      "execution_count": null,
      "outputs": [
        {
          "output_type": "stream",
          "text": [
            "HaHaHa\n",
            "HaHaHa\n",
            "HaHaHa\n",
            "HaHaHa\n"
          ],
          "name": "stdout"
        }
      ]
    },
    {
      "cell_type": "code",
      "metadata": {
        "id": "PrCm3PM8VwKt",
        "colab_type": "code",
        "colab": {
          "base_uri": "https://localhost:8080/",
          "height": 85
        },
        "outputId": "de8fea19-1e0e-4a02-ebec-dd830874ccac"
      },
      "source": [
        "for x in list_a:\n",
        "    print(x)"
      ],
      "execution_count": null,
      "outputs": [
        {
          "output_type": "stream",
          "text": [
            "1\n",
            "3\n",
            "7\n",
            "19\n"
          ],
          "name": "stdout"
        }
      ]
    },
    {
      "cell_type": "markdown",
      "metadata": {
        "id": "APcAxGvTWjaJ",
        "colab_type": "text"
      },
      "source": [
        "range คือการสร้าง list ที่มีค่า"
      ]
    },
    {
      "cell_type": "code",
      "metadata": {
        "id": "ZnBaFqY_Wdcj",
        "colab_type": "code",
        "colab": {
          "base_uri": "https://localhost:8080/",
          "height": 34
        },
        "outputId": "11c00980-f9c2-4a5b-e6fd-5b2ead918855"
      },
      "source": [
        "range(6)"
      ],
      "execution_count": null,
      "outputs": [
        {
          "output_type": "execute_result",
          "data": {
            "text/plain": [
              "range(0, 6)"
            ]
          },
          "metadata": {
            "tags": []
          },
          "execution_count": 69
        }
      ]
    },
    {
      "cell_type": "code",
      "metadata": {
        "id": "XrcrJuJxWsVD",
        "colab_type": "code",
        "colab": {
          "base_uri": "https://localhost:8080/",
          "height": 119
        },
        "outputId": "ba35a39b-9879-48e4-ec4c-c49fc269eb45"
      },
      "source": [
        "for i in range(6):\n",
        "  print(i)"
      ],
      "execution_count": null,
      "outputs": [
        {
          "output_type": "stream",
          "text": [
            "0\n",
            "1\n",
            "2\n",
            "3\n",
            "4\n",
            "5\n"
          ],
          "name": "stdout"
        }
      ]
    },
    {
      "cell_type": "code",
      "metadata": {
        "id": "F9SDjaKLXIPH",
        "colab_type": "code",
        "colab": {
          "base_uri": "https://localhost:8080/",
          "height": 272
        },
        "outputId": "0b68729c-e8a2-40e2-8575-4ace232a0cd8"
      },
      "source": [
        "for i in range(3):\n",
        "    print('start inner')\n",
        "    for j in range(3):\n",
        "        print(f'i={i}, j={j} ixj={i*j}')\n",
        "    print('end inner')"
      ],
      "execution_count": null,
      "outputs": [
        {
          "output_type": "stream",
          "text": [
            "start inner\n",
            "i=0, j=0 ixj=0\n",
            "i=0, j=1 ixj=0\n",
            "i=0, j=2 ixj=0\n",
            "end inner\n",
            "start inner\n",
            "i=1, j=0 ixj=0\n",
            "i=1, j=1 ixj=1\n",
            "i=1, j=2 ixj=2\n",
            "end inner\n",
            "start inner\n",
            "i=2, j=0 ixj=0\n",
            "i=2, j=1 ixj=2\n",
            "i=2, j=2 ixj=4\n",
            "end inner\n"
          ],
          "name": "stdout"
        }
      ]
    },
    {
      "cell_type": "markdown",
      "metadata": {
        "id": "nCZaweH4ZO6x",
        "colab_type": "text"
      },
      "source": [
        "###If statement"
      ]
    },
    {
      "cell_type": "code",
      "metadata": {
        "id": "k1S2Py2gZ5b5",
        "colab_type": "code",
        "colab": {}
      },
      "source": [
        "stringX = 'abcdefghijklmnopq'\n",
        "if len(stringX) > 100:\n",
        "    print('StringX is longer then 6')"
      ],
      "execution_count": null,
      "outputs": []
    },
    {
      "cell_type": "code",
      "metadata": {
        "colab_type": "code",
        "id": "RPmAoM9xamZ-",
        "colab": {
          "base_uri": "https://localhost:8080/",
          "height": 34
        },
        "outputId": "5a804066-e946-4c71-f088-7a05fdccedd4"
      },
      "source": [
        "stringX = 'abcdefghijklmnopq'\n",
        "if len(stringX) > 100:\n",
        "    print('StringX is longer then 6')\n",
        "else:\n",
        "    print('XXX')"
      ],
      "execution_count": null,
      "outputs": [
        {
          "output_type": "stream",
          "text": [
            "XXX\n"
          ],
          "name": "stdout"
        }
      ]
    },
    {
      "cell_type": "code",
      "metadata": {
        "id": "s3umfZAMaf5R",
        "colab_type": "code",
        "colab": {
          "base_uri": "https://localhost:8080/",
          "height": 34
        },
        "outputId": "20e84324-fcb0-4904-f451-7b8be7e642d3"
      },
      "source": [
        "stringX = 'abcdefghijklmnopq'\n",
        "if len(stringX) < 10:\n",
        "    print('StringX is shorter then 10')\n",
        "elif len(stringX)==17:\n",
        "    print(stringX)\n",
        "else:\n",
        "    print('XXX')"
      ],
      "execution_count": null,
      "outputs": [
        {
          "output_type": "stream",
          "text": [
            "abcdefghijklmnopq\n"
          ],
          "name": "stdout"
        }
      ]
    },
    {
      "cell_type": "markdown",
      "metadata": {
        "id": "32ZW_A3mcIn7",
        "colab_type": "text"
      },
      "source": [
        "###Exercise 1"
      ]
    },
    {
      "cell_type": "markdown",
      "metadata": {
        "id": "f_Nov4excSXV",
        "colab_type": "text"
      },
      "source": [
        "หาค่ามากที่สุดใน list_EX = [-4,-1,-9,8,11] โดยไม่ใช้ function max()"
      ]
    },
    {
      "cell_type": "code",
      "metadata": {
        "id": "eS_o_cC4coyf",
        "colab_type": "code",
        "colab": {
          "base_uri": "https://localhost:8080/",
          "height": 102
        },
        "outputId": "372658a2-5ce2-49c2-8c7a-1f9fa4e56cb5"
      },
      "source": [
        "list_EX=[-4,-1,-9,8,11]\n",
        "MAXIMUM=-1000000000\n",
        "for i in list_EX:\n",
        "    if i > MAXIMUM:\n",
        "      MAXIMUM=i\n",
        "      print(f'now maximum is {MAXIMUM}')\n",
        "print(f'Answer is {MAXIMUM} is the maximum number of {list_EX}')"
      ],
      "execution_count": null,
      "outputs": [
        {
          "output_type": "stream",
          "text": [
            "now maximum is -4\n",
            "now maximum is -1\n",
            "now maximum is 8\n",
            "now maximum is 11\n",
            "Answer is 11 is the maximum number of [-4, -1, -9, 8, 11]\n"
          ],
          "name": "stdout"
        }
      ]
    },
    {
      "cell_type": "code",
      "metadata": {
        "id": "tIB_O-OKhG4J",
        "colab_type": "code",
        "colab": {
          "base_uri": "https://localhost:8080/",
          "height": 119
        },
        "outputId": "b947ab91-70e3-4da5-b4e0-6befaff5bea1"
      },
      "source": [
        "list_EX = [-4, -1, -9, 8, 11]\n",
        "maximum = -10000000\n",
        "for i in list_EX :\n",
        "    if i > maximum:\n",
        "      print (f'{i}>{maximum} UPDATE!, ' ,end=' ')\n",
        "      maximum = i\n",
        "      print (f'now maximum is {maximum}')\n",
        "    else:\n",
        "      print (f'{i}<{maximum} NOT UPDATE!, now maximum is {maximum}')\n",
        "print(f'Answer is {maximum} is the maximum number of {list_EX}')"
      ],
      "execution_count": null,
      "outputs": [
        {
          "output_type": "stream",
          "text": [
            "-4>-10000000 UPDATE!,  now maximum is -4\n",
            "-1>-4 UPDATE!,  now maximum is -1\n",
            "-9<-1 NOT UPDATE!, now maximum is -1\n",
            "8>-1 UPDATE!,  now maximum is 8\n",
            "11>8 UPDATE!,  now maximum is 11\n",
            "Answer is 11 is the maximum number of [-4, -1, -9, 8, 11]\n"
          ],
          "name": "stdout"
        }
      ]
    },
    {
      "cell_type": "markdown",
      "metadata": {
        "id": "c7TtyRJXhGSW",
        "colab_type": "text"
      },
      "source": [
        "###HW"
      ]
    },
    {
      "cell_type": "markdown",
      "metadata": {
        "id": "pwNi1RC4hJZH",
        "colab_type": "text"
      },
      "source": [
        "เรียงลำดับค่าใน list_EX=[-4,-1,-9,8,11] จากค่ามากที่สุดไปน้อยสุด โดยไม่ใช้ function sort()"
      ]
    },
    {
      "cell_type": "code",
      "metadata": {
        "id": "weNcW19ziKE8",
        "colab_type": "code",
        "colab": {
          "base_uri": "https://localhost:8080/",
          "height": 34
        },
        "outputId": "58a63805-6be7-4a98-c68b-8918fafbda7f"
      },
      "source": [
        "list_EX = [-4, -1, -9, 8, 11]\n",
        "LIST1_EX = len(list_EX)\n",
        "LIST2_EX = LIST1_EX - 1\n",
        "for a in range(LIST1_EX) :\n",
        "      for b in range(LIST2_EX) :\n",
        "            if list_EX[b] < list_EX[b+1] :\n",
        "                ccc = list_EX[b]\n",
        "                list_EX[b] = list_EX[b+1] \n",
        "                list_EX[b+1] = ccc\n",
        "print(list_EX)"
      ],
      "execution_count": null,
      "outputs": [
        {
          "output_type": "stream",
          "text": [
            "[11, 8, -1, -4, -9]\n"
          ],
          "name": "stdout"
        }
      ]
    },
    {
      "cell_type": "markdown",
      "metadata": {
        "id": "1LH2OlWxh6I-",
        "colab_type": "text"
      },
      "source": [
        "### Function()"
      ]
    },
    {
      "cell_type": "code",
      "metadata": {
        "id": "jHWekqibiD2E",
        "colab_type": "code",
        "colab": {
          "base_uri": "https://localhost:8080/",
          "height": 119
        },
        "outputId": "db90e795-e661-4e44-fe6b-8cb6115203d6"
      },
      "source": [
        "list_EX = [-4, -1, -9, 8, 11]\n",
        "maximum = -10000000\n",
        "for i in list_EX :\n",
        "    if i > maximum:\n",
        "      print (f'{i}>{maximum} UPDATE!, ' ,end=' ')\n",
        "      maximum = i\n",
        "      print (f'now maximum is {maximum}')\n",
        "    else:\n",
        "      print (f'{i}<{maximum} NOT UPDATE!, now maximum is {maximum}')\n",
        "print(f'Answer is {maximum} is the maximum number of {list_EX}')"
      ],
      "execution_count": null,
      "outputs": [
        {
          "output_type": "stream",
          "text": [
            "-4>-10000000 UPDATE!,  now maximum is -4\n",
            "-1>-4 UPDATE!,  now maximum is -1\n",
            "-9<-1 NOT UPDATE!, now maximum is -1\n",
            "8>-1 UPDATE!,  now maximum is 8\n",
            "11>8 UPDATE!,  now maximum is 11\n",
            "Answer is 11 is the maximum number of [-4, -1, -9, 8, 11]\n"
          ],
          "name": "stdout"
        }
      ]
    },
    {
      "cell_type": "code",
      "metadata": {
        "id": "N-tYzSOikQ6D",
        "colab_type": "code",
        "colab": {}
      },
      "source": [
        "def find_max(in_list): \n",
        "      maximum = -10000000\n",
        "      for i in in_list:\n",
        "          if i > maximum:\n",
        "              print (f'{i}>{maximum} UPDATE!, ' ,end=' ')\n",
        "              maximum = i\n",
        "              print (f'now maximum is {maximum}')\n",
        "          else:\n",
        "              print (f'{i}<{maximum} NOT UPDATE!, now maximum is {maximum}')\n",
        "\n",
        "      print(f'Answer is {maximum} is the maximum number of {in_list}')"
      ],
      "execution_count": null,
      "outputs": []
    },
    {
      "cell_type": "code",
      "metadata": {
        "id": "KqLehN0Wifgn",
        "colab_type": "code",
        "colab": {
          "base_uri": "https://localhost:8080/",
          "height": 119
        },
        "outputId": "d85ca189-ba37-4275-e227-987911c65030"
      },
      "source": [
        "find_max([12, 1666, 912312, -2, 77])"
      ],
      "execution_count": null,
      "outputs": [
        {
          "output_type": "stream",
          "text": [
            "12>-10000000 UPDATE!,  now maximum is 12\n",
            "1666>12 UPDATE!,  now maximum is 1666\n",
            "912312>1666 UPDATE!,  now maximum is 912312\n",
            "-2<912312 NOT UPDATE!, now maximum is 912312\n",
            "77<912312 NOT UPDATE!, now maximum is 912312\n",
            "Answer is 912312 is the maximum number of [12, 1666, 912312, -2, 77]\n"
          ],
          "name": "stdout"
        }
      ]
    },
    {
      "cell_type": "markdown",
      "metadata": {
        "id": "Y7uHKvSZrodo",
        "colab_type": "text"
      },
      "source": [
        "__return__ คือ การเอา output ไปใช้ต่อ โดยการส่งค่ากลับมา"
      ]
    },
    {
      "cell_type": "code",
      "metadata": {
        "id": "vcuwEqMXnutK",
        "colab_type": "code",
        "colab": {}
      },
      "source": [
        "def find_max(in_list): \n",
        "      maximum = -10000000\n",
        "      for i in in_list:\n",
        "          if i > maximum:\n",
        "              print (f'{i}>{maximum} UPDATE!, ' ,end=' ')\n",
        "              maximum = i\n",
        "              print (f'now maximum is {maximum}')\n",
        "          else:\n",
        "              print (f'{i}<{maximum} NOT UPDATE!, now maximum is {maximum}')\n",
        "\n",
        "      print(f'Answer is {maximum} is the maximum number of {in_list}')\n",
        "      return maximum"
      ],
      "execution_count": null,
      "outputs": []
    },
    {
      "cell_type": "code",
      "metadata": {
        "id": "czsBNHYOnu28",
        "colab_type": "code",
        "colab": {
          "base_uri": "https://localhost:8080/",
          "height": 121
        },
        "outputId": "b7d72c14-6208-46e1-ff65-1719da1d3ff2"
      },
      "source": [
        "a = find_max([12, 1666, 912312, -2, 77])"
      ],
      "execution_count": null,
      "outputs": [
        {
          "output_type": "stream",
          "text": [
            "12>-10000000 UPDATE!,  now maximum is 12\n",
            "1666>12 UPDATE!,  now maximum is 1666\n",
            "912312>1666 UPDATE!,  now maximum is 912312\n",
            "-2<912312 NOT UPDATE!, now maximum is 912312\n",
            "77<912312 NOT UPDATE!, now maximum is 912312\n",
            "Answer is 912312 is the maximum number of [12, 1666, 912312, -2, 77]\n"
          ],
          "name": "stdout"
        }
      ]
    },
    {
      "cell_type": "code",
      "metadata": {
        "id": "JTaTSXmAiwRr",
        "colab_type": "code",
        "colab": {
          "base_uri": "https://localhost:8080/",
          "height": 34
        },
        "outputId": "67edcf0a-7bf9-4275-b316-b090d461989d"
      },
      "source": [
        "a"
      ],
      "execution_count": null,
      "outputs": [
        {
          "output_type": "execute_result",
          "data": {
            "text/plain": [
              "4"
            ]
          },
          "metadata": {
            "tags": []
          },
          "execution_count": 6
        }
      ]
    },
    {
      "cell_type": "markdown",
      "metadata": {
        "id": "AOBiG-UVgoj-",
        "colab_type": "text"
      },
      "source": [
        "###19/08/2020\n",
        "### List Slicing:"
      ]
    },
    {
      "cell_type": "code",
      "metadata": {
        "id": "yWfOHNbtgne2",
        "colab_type": "code",
        "colab": {}
      },
      "source": [
        "example_list=list(range(-4,99,3))"
      ],
      "execution_count": 3,
      "outputs": []
    },
    {
      "cell_type": "code",
      "metadata": {
        "id": "nGR_m9TehK-c",
        "colab_type": "code",
        "colab": {
          "base_uri": "https://localhost:8080/",
          "height": 34
        },
        "outputId": "449f7c50-0713-4f18-e27d-8d7bef9c05e6"
      },
      "source": [
        "example_list[0:10]"
      ],
      "execution_count": 7,
      "outputs": [
        {
          "output_type": "execute_result",
          "data": {
            "text/plain": [
              "[-4, -1, 2, 5, 8, 11, 14, 17, 20, 23]"
            ]
          },
          "metadata": {
            "tags": []
          },
          "execution_count": 7
        }
      ]
    },
    {
      "cell_type": "markdown",
      "metadata": {
        "id": "_tIJzO4HiNZ3",
        "colab_type": "text"
      },
      "source": [
        "ตัวอย่างแบบที่ 2"
      ]
    },
    {
      "cell_type": "code",
      "metadata": {
        "id": "nycuwuE-iQ_M",
        "colab_type": "code",
        "colab": {
          "base_uri": "https://localhost:8080/",
          "height": 34
        },
        "outputId": "efd2b6d2-8161-469a-9918-2b912d63a376"
      },
      "source": [
        "example_list[-10:]"
      ],
      "execution_count": 8,
      "outputs": [
        {
          "output_type": "execute_result",
          "data": {
            "text/plain": [
              "[71, 74, 77, 80, 83, 86, 89, 92, 95, 98]"
            ]
          },
          "metadata": {
            "tags": []
          },
          "execution_count": 8
        }
      ]
    },
    {
      "cell_type": "code",
      "metadata": {
        "id": "RYcDLVnBikZU",
        "colab_type": "code",
        "colab": {
          "base_uri": "https://localhost:8080/",
          "height": 34
        },
        "outputId": "385a45e4-f506-4505-e90b-7ae525fe8f73"
      },
      "source": [
        "example_list[9:-2:4]"
      ],
      "execution_count": 9,
      "outputs": [
        {
          "output_type": "execute_result",
          "data": {
            "text/plain": [
              "[23, 35, 47, 59, 71, 83]"
            ]
          },
          "metadata": {
            "tags": []
          },
          "execution_count": 9
        }
      ]
    },
    {
      "cell_type": "code",
      "metadata": {
        "id": "iSaFk66pjFuw",
        "colab_type": "code",
        "colab": {
          "base_uri": "https://localhost:8080/",
          "height": 612
        },
        "outputId": "5c75c5e9-207d-4281-ba21-0269277b5641"
      },
      "source": [
        "example_list[::-1]"
      ],
      "execution_count": 10,
      "outputs": [
        {
          "output_type": "execute_result",
          "data": {
            "text/plain": [
              "[98,\n",
              " 95,\n",
              " 92,\n",
              " 89,\n",
              " 86,\n",
              " 83,\n",
              " 80,\n",
              " 77,\n",
              " 74,\n",
              " 71,\n",
              " 68,\n",
              " 65,\n",
              " 62,\n",
              " 59,\n",
              " 56,\n",
              " 53,\n",
              " 50,\n",
              " 47,\n",
              " 44,\n",
              " 41,\n",
              " 38,\n",
              " 35,\n",
              " 32,\n",
              " 29,\n",
              " 26,\n",
              " 23,\n",
              " 20,\n",
              " 17,\n",
              " 14,\n",
              " 11,\n",
              " 8,\n",
              " 5,\n",
              " 2,\n",
              " -1,\n",
              " -4]"
            ]
          },
          "metadata": {
            "tags": []
          },
          "execution_count": 10
        }
      ]
    }
  ]
}