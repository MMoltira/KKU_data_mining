{
  "nbformat": 4,
  "nbformat_minor": 0,
  "metadata": {
    "colab": {
      "name": "Untitled0.ipynb",
      "provenance": [],
      "include_colab_link": true
    },
    "kernelspec": {
      "name": "python3",
      "display_name": "Python 3"
    }
  },
  "cells": [
    {
      "cell_type": "markdown",
      "metadata": {
        "id": "view-in-github",
        "colab_type": "text"
      },
      "source": [
        "<a href=\"https://colab.research.google.com/github/MMoltira/KKU_data_mining/blob/master/Data101.ipynb\" target=\"_parent\"><img src=\"https://colab.research.google.com/assets/colab-badge.svg\" alt=\"Open In Colab\"/></a>"
      ]
    },
    {
      "cell_type": "markdown",
      "metadata": {
        "id": "ZykioGOt2UVZ"
      },
      "source": [
        "ตัวอย่างการเรียกใช้ package ที่ชื่อว่า pandas โดยที่คำสั่ง import คือ การเรียกใช้ package"
      ]
    },
    {
      "cell_type": "code",
      "metadata": {
        "id": "fVr5k9Pcuh5u"
      },
      "source": [
        "import pandas"
      ],
      "execution_count": 1,
      "outputs": []
    },
    {
      "cell_type": "markdown",
      "metadata": {
        "id": "GI3kd-Ng3UIv"
      },
      "source": [
        "การเปรี่ยนชื่อ pandas ให้สั่นลง โดยใช้คำสั่ง as เป็นชื่อที่เราต้องการ"
      ]
    },
    {
      "cell_type": "code",
      "metadata": {
        "id": "Zo3QGl4g3rGy"
      },
      "source": [
        "import pandas as pd"
      ],
      "execution_count": 2,
      "outputs": []
    },
    {
      "cell_type": "markdown",
      "metadata": {
        "id": "5fD_lEfm5Dx_"
      },
      "source": [
        "เมื่อ library มีขนาดใหญ่ขึ้นและต้องการรวมโฟลเดอร์ จะใช้คำสั่ง from ตามด้วย ชื่อโปรเจกต์หลัก import และตามด้วย แพ็กเกจที่เราต้องการ"
      ]
    },
    {
      "cell_type": "code",
      "metadata": {
        "id": "lDa282Y26Alh",
        "colab": {
          "base_uri": "https://localhost:8080/"
        },
        "outputId": "de8bbde6-1a10-472d-a233-afe780f38dce"
      },
      "source": [
        "from google.colab import drive\n",
        "drive.mount('/content/drive')"
      ],
      "execution_count": 4,
      "outputs": [
        {
          "output_type": "stream",
          "text": [
            "Drive already mounted at /content/drive; to attempt to forcibly remount, call drive.mount(\"/content/drive\", force_remount=True).\n"
          ],
          "name": "stdout"
        }
      ]
    },
    {
      "cell_type": "markdown",
      "metadata": {
        "id": "1DpfjdFv6nlV"
      },
      "source": [
        "การ import os ก็คือการเรียกใช้งานที่เกี่ยวกับไฟล์ทั้งหมด"
      ]
    },
    {
      "cell_type": "code",
      "metadata": {
        "id": "k7U5seL-7Qan"
      },
      "source": [
        "import os "
      ],
      "execution_count": 5,
      "outputs": []
    },
    {
      "cell_type": "markdown",
      "metadata": {
        "id": "maAG18H87WSO"
      },
      "source": [
        "path คือการสร้างตัวแปลของไฟล์"
      ]
    },
    {
      "cell_type": "code",
      "metadata": {
        "id": "LJMwNCHj7kN-"
      },
      "source": [
        "path='/content/drive/My Drive/DWDM_material'"
      ],
      "execution_count": 6,
      "outputs": []
    },
    {
      "cell_type": "markdown",
      "metadata": {
        "id": "QDJjW-fq711I"
      },
      "source": [
        "listdir คือ ไฟล์ตามที่อยู่ที่เรากำหนด"
      ]
    },
    {
      "cell_type": "code",
      "metadata": {
        "id": "adXt2UOb8Fn2",
        "colab": {
          "base_uri": "https://localhost:8080/"
        },
        "outputId": "1a877664-a6b2-45ee-fa14-b00fb4a368df"
      },
      "source": [
        "os.listdir(path)"
      ],
      "execution_count": 7,
      "outputs": [
        {
          "output_type": "execute_result",
          "data": {
            "text/plain": [
              "['test.csv',\n",
              " 'metadata.xlsx',\n",
              " 'search_click.csv',\n",
              " 'w_restaurant.csv',\n",
              " 'reduced_marketbasket (1).csv',\n",
              " 'reduced_marketbasket.csv',\n",
              " 'Nong.jpg',\n",
              " 'somros3.csv',\n",
              " 'raydai2.csv',\n",
              " 'caijai.csv',\n",
              " 'divorce.csv']"
            ]
          },
          "metadata": {
            "tags": []
          },
          "execution_count": 7
        }
      ]
    },
    {
      "cell_type": "code",
      "metadata": {
        "id": "PoDeBjgw8oaX"
      },
      "source": [
        "import pandas as pd "
      ],
      "execution_count": 8,
      "outputs": []
    },
    {
      "cell_type": "markdown",
      "metadata": {
        "id": "KWuKtcdO8uRb"
      },
      "source": [
        "จากนั้นจะสร้างตัวแปลที่ชื่อ file_path โดยจะเปิดไฟล์ .csv และสร้างตัวแปร os.path.join ซึ่งจะ join อยู่สองอย่าง คือ path และ ไฟล์ที่ชื่อ test.csv"
      ]
    },
    {
      "cell_type": "code",
      "metadata": {
        "id": "srh_EHq79d3H",
        "colab": {
          "base_uri": "https://localhost:8080/"
        },
        "outputId": "56a9a662-b4eb-47b5-93c4-aaea30b98f64"
      },
      "source": [
        "file_path=os.path.join(path,'test.csv')\n",
        "print(file_path)"
      ],
      "execution_count": 9,
      "outputs": [
        {
          "output_type": "stream",
          "text": [
            "/content/drive/My Drive/DWDM_material/test.csv\n"
          ],
          "name": "stdout"
        }
      ]
    },
    {
      "cell_type": "markdown",
      "metadata": {
        "id": "tAxGecV016vj"
      },
      "source": [
        "ดูแต่หัวตารางโดยพิมพ์ชื่อตัวแปร คือ table1 ตามด้วย .head() แปลว่า เราจะโชว์แค่ห้าบรรทัดแรก"
      ]
    },
    {
      "cell_type": "code",
      "metadata": {
        "id": "Ky1iv5bG96uj",
        "colab": {
          "base_uri": "https://localhost:8080/",
          "height": 197
        },
        "outputId": "d25bd10b-2572-466c-d6f1-7fe6276a8ff7"
      },
      "source": [
        "pd.read_csv(file_path).head()"
      ],
      "execution_count": 10,
      "outputs": [
        {
          "output_type": "execute_result",
          "data": {
            "text/html": [
              "<div>\n",
              "<style scoped>\n",
              "    .dataframe tbody tr th:only-of-type {\n",
              "        vertical-align: middle;\n",
              "    }\n",
              "\n",
              "    .dataframe tbody tr th {\n",
              "        vertical-align: top;\n",
              "    }\n",
              "\n",
              "    .dataframe thead th {\n",
              "        text-align: right;\n",
              "    }\n",
              "</style>\n",
              "<table border=\"1\" class=\"dataframe\">\n",
              "  <thead>\n",
              "    <tr style=\"text-align: right;\">\n",
              "      <th></th>\n",
              "      <th>Unnamed: 0</th>\n",
              "      <th>x</th>\n",
              "      <th>y</th>\n",
              "    </tr>\n",
              "  </thead>\n",
              "  <tbody>\n",
              "    <tr>\n",
              "      <th>0</th>\n",
              "      <td>0</td>\n",
              "      <td>55.3846</td>\n",
              "      <td>97.1795</td>\n",
              "    </tr>\n",
              "    <tr>\n",
              "      <th>1</th>\n",
              "      <td>1</td>\n",
              "      <td>51.5385</td>\n",
              "      <td>96.0256</td>\n",
              "    </tr>\n",
              "    <tr>\n",
              "      <th>2</th>\n",
              "      <td>2</td>\n",
              "      <td>46.1538</td>\n",
              "      <td>94.4872</td>\n",
              "    </tr>\n",
              "    <tr>\n",
              "      <th>3</th>\n",
              "      <td>3</td>\n",
              "      <td>42.8205</td>\n",
              "      <td>91.4103</td>\n",
              "    </tr>\n",
              "    <tr>\n",
              "      <th>4</th>\n",
              "      <td>4</td>\n",
              "      <td>40.7692</td>\n",
              "      <td>88.3333</td>\n",
              "    </tr>\n",
              "  </tbody>\n",
              "</table>\n",
              "</div>"
            ],
            "text/plain": [
              "   Unnamed: 0        x        y\n",
              "0           0  55.3846  97.1795\n",
              "1           1  51.5385  96.0256\n",
              "2           2  46.1538  94.4872\n",
              "3           3  42.8205  91.4103\n",
              "4           4  40.7692  88.3333"
            ]
          },
          "metadata": {
            "tags": []
          },
          "execution_count": 10
        }
      ]
    },
    {
      "cell_type": "markdown",
      "metadata": {
        "id": "P1SGX06L-MOX"
      },
      "source": [
        "ให้ table1 เป็นตัวแปร จึงทำให้ pd.read_csv(file_path) เข้ามาอยู่ในตัวแปร หลังจากนั้นเมื่อจะใช้ก็ให้พิมพ์ชื่อตัวแปรที่เราตั้งไว้ จากนั้นรันผล มันจะโชว์ตัวแปรและค่าข้างในตัวแปรนั้นๆ"
      ]
    },
    {
      "cell_type": "code",
      "metadata": {
        "id": "cjMjEric_GAf"
      },
      "source": [
        "table1=pd.read_csv(file_path)"
      ],
      "execution_count": 11,
      "outputs": []
    },
    {
      "cell_type": "code",
      "metadata": {
        "id": "vqGl_wXa_RLB",
        "colab": {
          "base_uri": "https://localhost:8080/",
          "height": 406
        },
        "outputId": "93a1c67c-5f4e-4b4a-a5fd-a95e5b2d639f"
      },
      "source": [
        "table1"
      ],
      "execution_count": 12,
      "outputs": [
        {
          "output_type": "execute_result",
          "data": {
            "text/html": [
              "<div>\n",
              "<style scoped>\n",
              "    .dataframe tbody tr th:only-of-type {\n",
              "        vertical-align: middle;\n",
              "    }\n",
              "\n",
              "    .dataframe tbody tr th {\n",
              "        vertical-align: top;\n",
              "    }\n",
              "\n",
              "    .dataframe thead th {\n",
              "        text-align: right;\n",
              "    }\n",
              "</style>\n",
              "<table border=\"1\" class=\"dataframe\">\n",
              "  <thead>\n",
              "    <tr style=\"text-align: right;\">\n",
              "      <th></th>\n",
              "      <th>Unnamed: 0</th>\n",
              "      <th>x</th>\n",
              "      <th>y</th>\n",
              "    </tr>\n",
              "  </thead>\n",
              "  <tbody>\n",
              "    <tr>\n",
              "      <th>0</th>\n",
              "      <td>0</td>\n",
              "      <td>55.3846</td>\n",
              "      <td>97.1795</td>\n",
              "    </tr>\n",
              "    <tr>\n",
              "      <th>1</th>\n",
              "      <td>1</td>\n",
              "      <td>51.5385</td>\n",
              "      <td>96.0256</td>\n",
              "    </tr>\n",
              "    <tr>\n",
              "      <th>2</th>\n",
              "      <td>2</td>\n",
              "      <td>46.1538</td>\n",
              "      <td>94.4872</td>\n",
              "    </tr>\n",
              "    <tr>\n",
              "      <th>3</th>\n",
              "      <td>3</td>\n",
              "      <td>42.8205</td>\n",
              "      <td>91.4103</td>\n",
              "    </tr>\n",
              "    <tr>\n",
              "      <th>4</th>\n",
              "      <td>4</td>\n",
              "      <td>40.7692</td>\n",
              "      <td>88.3333</td>\n",
              "    </tr>\n",
              "    <tr>\n",
              "      <th>...</th>\n",
              "      <td>...</td>\n",
              "      <td>...</td>\n",
              "      <td>...</td>\n",
              "    </tr>\n",
              "    <tr>\n",
              "      <th>137</th>\n",
              "      <td>137</td>\n",
              "      <td>39.4872</td>\n",
              "      <td>25.3846</td>\n",
              "    </tr>\n",
              "    <tr>\n",
              "      <th>138</th>\n",
              "      <td>138</td>\n",
              "      <td>91.2821</td>\n",
              "      <td>41.5385</td>\n",
              "    </tr>\n",
              "    <tr>\n",
              "      <th>139</th>\n",
              "      <td>139</td>\n",
              "      <td>50.0000</td>\n",
              "      <td>95.7692</td>\n",
              "    </tr>\n",
              "    <tr>\n",
              "      <th>140</th>\n",
              "      <td>140</td>\n",
              "      <td>47.9487</td>\n",
              "      <td>95.0000</td>\n",
              "    </tr>\n",
              "    <tr>\n",
              "      <th>141</th>\n",
              "      <td>141</td>\n",
              "      <td>44.1026</td>\n",
              "      <td>92.6923</td>\n",
              "    </tr>\n",
              "  </tbody>\n",
              "</table>\n",
              "<p>142 rows × 3 columns</p>\n",
              "</div>"
            ],
            "text/plain": [
              "     Unnamed: 0        x        y\n",
              "0             0  55.3846  97.1795\n",
              "1             1  51.5385  96.0256\n",
              "2             2  46.1538  94.4872\n",
              "3             3  42.8205  91.4103\n",
              "4             4  40.7692  88.3333\n",
              "..          ...      ...      ...\n",
              "137         137  39.4872  25.3846\n",
              "138         138  91.2821  41.5385\n",
              "139         139  50.0000  95.7692\n",
              "140         140  47.9487  95.0000\n",
              "141         141  44.1026  92.6923\n",
              "\n",
              "[142 rows x 3 columns]"
            ]
          },
          "metadata": {
            "tags": []
          },
          "execution_count": 12
        }
      ]
    },
    {
      "cell_type": "markdown",
      "metadata": {
        "id": "JM7rM7-w_Y7z"
      },
      "source": [
        "pyplot เป็นแพ็กเกจที่เอาไว้ใช้ในการพล็อตกราฟ คำสั่งแรก scatter โดยจะนำแต่ละจุดไปพล็อตที่กราฟ x และ y"
      ]
    },
    {
      "cell_type": "code",
      "metadata": {
        "id": "bZavWDaGAGGw"
      },
      "source": [
        "from matplotlib import pyplot as plt"
      ],
      "execution_count": 13,
      "outputs": []
    },
    {
      "cell_type": "code",
      "metadata": {
        "id": "1AER9mSoASnA",
        "colab": {
          "base_uri": "https://localhost:8080/",
          "height": 281
        },
        "outputId": "42f0c02e-8d59-43d0-eb64-fb1c28b7a91a"
      },
      "source": [
        "plt.scatter(table1['x'],table1['y'])"
      ],
      "execution_count": 14,
      "outputs": [
        {
          "output_type": "execute_result",
          "data": {
            "text/plain": [
              "<matplotlib.collections.PathCollection at 0x7f0001ee88d0>"
            ]
          },
          "metadata": {
            "tags": []
          },
          "execution_count": 14
        },
        {
          "output_type": "display_data",
          "data": {
            "image/png": "[encoded data removed]",
            "text/plain": [
              "<Figure size 432x288 with 1 Axes>"
            ]
          },
          "metadata": {
            "tags": [],
            "needs_background": "light"
          }
        }
      ]
    },
    {
      "cell_type": "markdown",
      "metadata": {
        "id": "Y5OcZ2nFiMu3"
      },
      "source": [
        "Centrality ค่ากลาง"
      ]
    },
    {
      "cell_type": "code",
      "metadata": {
        "id": "cUxRtSNkiH3i",
        "colab": {
          "base_uri": "https://localhost:8080/"
        },
        "outputId": "deebcf1d-d14b-434d-c67c-242c2f6bf9db"
      },
      "source": [
        "table1['x']"
      ],
      "execution_count": 15,
      "outputs": [
        {
          "output_type": "execute_result",
          "data": {
            "text/plain": [
              "0      55.3846\n",
              "1      51.5385\n",
              "2      46.1538\n",
              "3      42.8205\n",
              "4      40.7692\n",
              "        ...   \n",
              "137    39.4872\n",
              "138    91.2821\n",
              "139    50.0000\n",
              "140    47.9487\n",
              "141    44.1026\n",
              "Name: x, Length: 142, dtype: float64"
            ]
          },
          "metadata": {
            "tags": []
          },
          "execution_count": 15
        }
      ]
    },
    {
      "cell_type": "markdown",
      "metadata": {
        "id": "2jvoRknv2LM2"
      },
      "source": [
        "การจะเรียกใช้ค่ามี 2 แบบ คือ table1['x'] หรือ table1.x สามารถเรียกใช้ได้ 2 แบบ แต่ตัวที่เป็น . ตามด้วยชื่อที่จะเรียกใช้ จะมีปัญหาถ้าชื่อคอลัมมีช่องว่าง"
      ]
    },
    {
      "cell_type": "code",
      "metadata": {
        "id": "P6G4357Jjj3Z",
        "colab": {
          "base_uri": "https://localhost:8080/"
        },
        "outputId": "4bfe61dd-5ba9-49ca-ec8b-6faca5df6457"
      },
      "source": [
        "table1.x"
      ],
      "execution_count": 16,
      "outputs": [
        {
          "output_type": "execute_result",
          "data": {
            "text/plain": [
              "0      55.3846\n",
              "1      51.5385\n",
              "2      46.1538\n",
              "3      42.8205\n",
              "4      40.7692\n",
              "        ...   \n",
              "137    39.4872\n",
              "138    91.2821\n",
              "139    50.0000\n",
              "140    47.9487\n",
              "141    44.1026\n",
              "Name: x, Length: 142, dtype: float64"
            ]
          },
          "metadata": {
            "tags": []
          },
          "execution_count": 16
        }
      ]
    },
    {
      "cell_type": "markdown",
      "metadata": {
        "id": "ICjEJYZ-2Qkf"
      },
      "source": [
        "ชื่อตาราง .describe() คือ สถิติที่ใช้อธิบาย เป็นคำสั่งที่ใช้คำนวณค่ากลาง ค่าการกระจายของตาราง"
      ]
    },
    {
      "cell_type": "code",
      "metadata": {
        "id": "b6NGIRxJla4_",
        "colab": {
          "base_uri": "https://localhost:8080/",
          "height": 287
        },
        "outputId": "c2dd2d0a-636b-4142-82ea-bb45f9c5d847"
      },
      "source": [
        "table1.describe()"
      ],
      "execution_count": 17,
      "outputs": [
        {
          "output_type": "execute_result",
          "data": {
            "text/html": [
              "<div>\n",
              "<style scoped>\n",
              "    .dataframe tbody tr th:only-of-type {\n",
              "        vertical-align: middle;\n",
              "    }\n",
              "\n",
              "    .dataframe tbody tr th {\n",
              "        vertical-align: top;\n",
              "    }\n",
              "\n",
              "    .dataframe thead th {\n",
              "        text-align: right;\n",
              "    }\n",
              "</style>\n",
              "<table border=\"1\" class=\"dataframe\">\n",
              "  <thead>\n",
              "    <tr style=\"text-align: right;\">\n",
              "      <th></th>\n",
              "      <th>Unnamed: 0</th>\n",
              "      <th>x</th>\n",
              "      <th>y</th>\n",
              "    </tr>\n",
              "  </thead>\n",
              "  <tbody>\n",
              "    <tr>\n",
              "      <th>count</th>\n",
              "      <td>142.000000</td>\n",
              "      <td>142.000000</td>\n",
              "      <td>142.000000</td>\n",
              "    </tr>\n",
              "    <tr>\n",
              "      <th>mean</th>\n",
              "      <td>70.500000</td>\n",
              "      <td>54.263273</td>\n",
              "      <td>47.832253</td>\n",
              "    </tr>\n",
              "    <tr>\n",
              "      <th>std</th>\n",
              "      <td>41.135953</td>\n",
              "      <td>16.765142</td>\n",
              "      <td>26.935403</td>\n",
              "    </tr>\n",
              "    <tr>\n",
              "      <th>min</th>\n",
              "      <td>0.000000</td>\n",
              "      <td>22.307700</td>\n",
              "      <td>2.948700</td>\n",
              "    </tr>\n",
              "    <tr>\n",
              "      <th>25%</th>\n",
              "      <td>35.250000</td>\n",
              "      <td>44.102600</td>\n",
              "      <td>25.288450</td>\n",
              "    </tr>\n",
              "    <tr>\n",
              "      <th>50%</th>\n",
              "      <td>70.500000</td>\n",
              "      <td>53.333300</td>\n",
              "      <td>46.025600</td>\n",
              "    </tr>\n",
              "    <tr>\n",
              "      <th>75%</th>\n",
              "      <td>105.750000</td>\n",
              "      <td>64.743600</td>\n",
              "      <td>68.525675</td>\n",
              "    </tr>\n",
              "    <tr>\n",
              "      <th>max</th>\n",
              "      <td>141.000000</td>\n",
              "      <td>98.205100</td>\n",
              "      <td>99.487200</td>\n",
              "    </tr>\n",
              "  </tbody>\n",
              "</table>\n",
              "</div>"
            ],
            "text/plain": [
              "       Unnamed: 0           x           y\n",
              "count  142.000000  142.000000  142.000000\n",
              "mean    70.500000   54.263273   47.832253\n",
              "std     41.135953   16.765142   26.935403\n",
              "min      0.000000   22.307700    2.948700\n",
              "25%     35.250000   44.102600   25.288450\n",
              "50%     70.500000   53.333300   46.025600\n",
              "75%    105.750000   64.743600   68.525675\n",
              "max    141.000000   98.205100   99.487200"
            ]
          },
          "metadata": {
            "tags": []
          },
          "execution_count": 17
        }
      ]
    },
    {
      "cell_type": "markdown",
      "metadata": {
        "id": "9hgzlq6enbZN"
      },
      "source": [
        "Python Data Structure"
      ]
    },
    {
      "cell_type": "markdown",
      "metadata": {
        "id": "5cVK1w3Znslt"
      },
      "source": [
        "Variable  การสร้างตัวแปร หรือ Variable โดยสร้างตัวแปรให้เป็น อักษรตัวใดตัวหนึ่ง แล้วกำหนดให้ = ค่าใดค่าหนึ่ง"
      ]
    },
    {
      "cell_type": "code",
      "metadata": {
        "id": "eCchZCbOnvne"
      },
      "source": [
        "a=1\n",
        "b=3"
      ],
      "execution_count": 18,
      "outputs": []
    },
    {
      "cell_type": "code",
      "metadata": {
        "id": "rsZQmYx2n0By"
      },
      "source": [
        "c=a+b"
      ],
      "execution_count": 19,
      "outputs": []
    },
    {
      "cell_type": "code",
      "metadata": {
        "id": "-G8t0oa8n3Wb",
        "colab": {
          "base_uri": "https://localhost:8080/"
        },
        "outputId": "d3291fe0-8957-4146-8e17-73769ecfb8af"
      },
      "source": [
        "c"
      ],
      "execution_count": 20,
      "outputs": [
        {
          "output_type": "execute_result",
          "data": {
            "text/plain": [
              "4"
            ]
          },
          "metadata": {
            "tags": []
          },
          "execution_count": 20
        }
      ]
    },
    {
      "cell_type": "markdown",
      "metadata": {
        "id": "MiJp39sq2dXV"
      },
      "source": [
        "สร้างตัวแปรให้เป็นชื่อยาว เช่น name = ' ชื่ออักษร '"
      ]
    },
    {
      "cell_type": "code",
      "metadata": {
        "id": "mCUsLSH3n507"
      },
      "source": [
        "name='a'"
      ],
      "execution_count": 21,
      "outputs": []
    },
    {
      "cell_type": "code",
      "metadata": {
        "id": "QOP3YExVn9NW",
        "colab": {
          "base_uri": "https://localhost:8080/",
          "height": 34
        },
        "outputId": "0b670209-4a61-4a75-b3e6-7bd4fcfc399e"
      },
      "source": [
        "name"
      ],
      "execution_count": 22,
      "outputs": [
        {
          "output_type": "execute_result",
          "data": {
            "application/vnd.google.colaboratory.intrinsic+json": {
              "type": "string"
            },
            "text/plain": [
              "'a'"
            ]
          },
          "metadata": {
            "tags": []
          },
          "execution_count": 22
        }
      ]
    },
    {
      "cell_type": "markdown",
      "metadata": {
        "id": "cvKO-m3o2hBe"
      },
      "source": [
        "สร้าง one = '1' โดยกำหนดให้ 1 เป็นตัวอักษร เพราะมี ' ' ล้อมรอบ"
      ]
    },
    {
      "cell_type": "code",
      "metadata": {
        "id": "HjCm9nunoAuu"
      },
      "source": [
        "one='1'"
      ],
      "execution_count": 23,
      "outputs": []
    },
    {
      "cell_type": "code",
      "metadata": {
        "id": "hWHt6zT6oD83",
        "colab": {
          "base_uri": "https://localhost:8080/",
          "height": 162
        },
        "outputId": "b5def362-4efb-4a18-fdb8-18e67779f2d4"
      },
      "source": [
        "a+one"
      ],
      "execution_count": 24,
      "outputs": [
        {
          "output_type": "error",
          "ename": "TypeError",
          "evalue": "ignored",
          "traceback": [
            "\u001b[0;31m---------------------------------------------------------------------------\u001b[0m",
            "\u001b[0;31mTypeError\u001b[0m                                 Traceback (most recent call last)",
            "\u001b[0;32m<ipython-input-24-89f1bb92b476>\u001b[0m in \u001b[0;36m<module>\u001b[0;34m()\u001b[0m\n\u001b[0;32m----> 1\u001b[0;31m \u001b[0ma\u001b[0m\u001b[0;34m+\u001b[0m\u001b[0mone\u001b[0m\u001b[0;34m\u001b[0m\u001b[0;34m\u001b[0m\u001b[0m\n\u001b[0m",
            "\u001b[0;31mTypeError\u001b[0m: unsupported operand type(s) for +: 'int' and 'str'"
          ]
        }
      ]
    },
    {
      "cell_type": "markdown",
      "metadata": {
        "id": "iJK3a0PO29Ev"
      },
      "source": [
        "Casting int() float() str() การเปลี่ยนชนิดของตัวแปร"
      ]
    },
    {
      "cell_type": "code",
      "metadata": {
        "id": "_eSAjdMToPX2",
        "colab": {
          "base_uri": "https://localhost:8080/"
        },
        "outputId": "6dcb1871-2915-42ce-d5a1-3cabf7955a13"
      },
      "source": [
        "a+int(one)"
      ],
      "execution_count": 25,
      "outputs": [
        {
          "output_type": "execute_result",
          "data": {
            "text/plain": [
              "2"
            ]
          },
          "metadata": {
            "tags": []
          },
          "execution_count": 25
        }
      ]
    },
    {
      "cell_type": "code",
      "metadata": {
        "id": "6s6nU39ypLiY"
      },
      "source": [
        "num='112.76'"
      ],
      "execution_count": 27,
      "outputs": []
    },
    {
      "cell_type": "code",
      "metadata": {
        "id": "YE2lt_pGpLcC",
        "colab": {
          "base_uri": "https://localhost:8080/",
          "height": 162
        },
        "outputId": "0dbd2c58-5398-4819-c9dd-032352ded316"
      },
      "source": [
        "int(num)"
      ],
      "execution_count": 28,
      "outputs": [
        {
          "output_type": "error",
          "ename": "ValueError",
          "evalue": "ignored",
          "traceback": [
            "\u001b[0;31m---------------------------------------------------------------------------\u001b[0m",
            "\u001b[0;31mValueError\u001b[0m                                Traceback (most recent call last)",
            "\u001b[0;32m<ipython-input-28-fa4446644730>\u001b[0m in \u001b[0;36m<module>\u001b[0;34m()\u001b[0m\n\u001b[0;32m----> 1\u001b[0;31m \u001b[0mint\u001b[0m\u001b[0;34m(\u001b[0m\u001b[0mnum\u001b[0m\u001b[0;34m)\u001b[0m\u001b[0;34m\u001b[0m\u001b[0;34m\u001b[0m\u001b[0m\n\u001b[0m",
            "\u001b[0;31mValueError\u001b[0m: invalid literal for int() with base 10: '112.76'"
          ]
        }
      ]
    },
    {
      "cell_type": "markdown",
      "metadata": {
        "id": "dFNdleIY3IKJ"
      },
      "source": [
        "เกิด error เนื่องจาก ค่า 112.76 เป็นค่าที่เป็นเลขทศนิยม ต้องเปลี่ยนไปใช้คำสั่ง float"
      ]
    },
    {
      "cell_type": "code",
      "metadata": {
        "id": "OBWh7DrLpfHr",
        "colab": {
          "base_uri": "https://localhost:8080/"
        },
        "outputId": "b252da6c-23c8-4772-da40-f33e63111196"
      },
      "source": [
        "float(num)"
      ],
      "execution_count": 29,
      "outputs": [
        {
          "output_type": "execute_result",
          "data": {
            "text/plain": [
              "112.76"
            ]
          },
          "metadata": {
            "tags": []
          },
          "execution_count": 29
        }
      ]
    },
    {
      "cell_type": "code",
      "metadata": {
        "id": "5DFxoxg7pjZp",
        "colab": {
          "base_uri": "https://localhost:8080/",
          "height": 34
        },
        "outputId": "e249c865-3208-4815-c6c9-ca4c3150b491"
      },
      "source": [
        "str(float(num))"
      ],
      "execution_count": 30,
      "outputs": [
        {
          "output_type": "execute_result",
          "data": {
            "application/vnd.google.colaboratory.intrinsic+json": {
              "type": "string"
            },
            "text/plain": [
              "'112.76'"
            ]
          },
          "metadata": {
            "tags": []
          },
          "execution_count": 30
        }
      ]
    },
    {
      "cell_type": "markdown",
      "metadata": {
        "id": "E4uoRY-dq-a9"
      },
      "source": [
        "HW เปลี่ยนค่าnum2='112.76887'เป็นเลขจำนวนเต็ม112ด้วยfunction casting(int() float() str())เท่านั้น"
      ]
    },
    {
      "cell_type": "code",
      "metadata": {
        "id": "E0wLQ1aqqf9g"
      },
      "source": [
        "num2='112.76887'"
      ],
      "execution_count": 31,
      "outputs": []
    },
    {
      "cell_type": "markdown",
      "metadata": {
        "id": "C0DuhpO9X8n4"
      },
      "source": [
        "รัน float ก่อน พอรันแล้วจะสามารถเปลี่ยนเป็น int ได้"
      ]
    },
    {
      "cell_type": "code",
      "metadata": {
        "id": "MtnDbaeFYSmU",
        "colab": {
          "base_uri": "https://localhost:8080/"
        },
        "outputId": "811a7005-e694-48d9-fa94-a9846ee5a039"
      },
      "source": [
        "float(num2)"
      ],
      "execution_count": 32,
      "outputs": [
        {
          "output_type": "execute_result",
          "data": {
            "text/plain": [
              "112.76887"
            ]
          },
          "metadata": {
            "tags": []
          },
          "execution_count": 32
        }
      ]
    },
    {
      "cell_type": "code",
      "metadata": {
        "id": "UQNGrnFsYhvC",
        "colab": {
          "base_uri": "https://localhost:8080/"
        },
        "outputId": "46edd483-9dbd-4e81-d749-70d12ca50b24"
      },
      "source": [
        "int(float(num2))"
      ],
      "execution_count": 33,
      "outputs": [
        {
          "output_type": "execute_result",
          "data": {
            "text/plain": [
              "112"
            ]
          },
          "metadata": {
            "tags": []
          },
          "execution_count": 33
        }
      ]
    },
    {
      "cell_type": "markdown",
      "metadata": {
        "id": "4W8BQ_DWJk6e"
      },
      "source": [
        "list()"
      ]
    },
    {
      "cell_type": "markdown",
      "metadata": {
        "id": "D65I_XR8JpH2"
      },
      "source": [
        "การสร้าง list"
      ]
    },
    {
      "cell_type": "markdown",
      "metadata": {
        "id": "h4zqkPge3V3r"
      },
      "source": [
        "list : set ของตัวแปรหรือกลุ่มของตัวแปร ลำดับของตัวแปรในข้อมูลที่มีความสำคัญ"
      ]
    },
    {
      "cell_type": "code",
      "metadata": {
        "id": "q9IrzNR_Jnm3"
      },
      "source": [
        "list_a=[1,3,7,19]"
      ],
      "execution_count": 35,
      "outputs": []
    },
    {
      "cell_type": "markdown",
      "metadata": {
        "id": "c8ITZz7YJy7T"
      },
      "source": [
        "วิธีเข้าไปเลือกค่าใน list"
      ]
    },
    {
      "cell_type": "code",
      "metadata": {
        "id": "VTSsGqxxJ59f",
        "colab": {
          "base_uri": "https://localhost:8080/"
        },
        "outputId": "494551ab-494f-4901-c0cc-5ad4486d4270"
      },
      "source": [
        "list_a[0]"
      ],
      "execution_count": 36,
      "outputs": [
        {
          "output_type": "execute_result",
          "data": {
            "text/plain": [
              "1"
            ]
          },
          "metadata": {
            "tags": []
          },
          "execution_count": 36
        }
      ]
    },
    {
      "cell_type": "markdown",
      "metadata": {
        "id": "dZfb7eiiKCWu"
      },
      "source": [
        "อยากรู้ว่าตัวสุดท้ายของ list คือเท่าไหร่ จะใช้วิธี -1 ถ้าลองสุดท้ายจะใช้ -2"
      ]
    },
    {
      "cell_type": "code",
      "metadata": {
        "id": "-3Sv2ozgKBqZ",
        "colab": {
          "base_uri": "https://localhost:8080/"
        },
        "outputId": "6bb8d253-27ce-4703-916a-4a24d6a25688"
      },
      "source": [
        "list_a[-1]"
      ],
      "execution_count": 37,
      "outputs": [
        {
          "output_type": "execute_result",
          "data": {
            "text/plain": [
              "19"
            ]
          },
          "metadata": {
            "tags": []
          },
          "execution_count": 37
        }
      ]
    },
    {
      "cell_type": "markdown",
      "metadata": {
        "id": "EnehrEE1KgnT"
      },
      "source": [
        "len คือ ความยาวของ list ว่ามีสมาชิกกี่ตัว"
      ]
    },
    {
      "cell_type": "code",
      "metadata": {
        "id": "b6x3uvfWKqY0",
        "colab": {
          "base_uri": "https://localhost:8080/"
        },
        "outputId": "1f748753-d001-48e5-d8dc-e75cf15cc74f"
      },
      "source": [
        "len(list_a)"
      ],
      "execution_count": 38,
      "outputs": [
        {
          "output_type": "execute_result",
          "data": {
            "text/plain": [
              "4"
            ]
          },
          "metadata": {
            "tags": []
          },
          "execution_count": 38
        }
      ]
    },
    {
      "cell_type": "markdown",
      "metadata": {
        "id": "xUHWjNN3Kyw2"
      },
      "source": [
        "ความสามารถอีกอย่างของ list คือ สามารถใส่ค่าอะไรก็ได้โดยไม่จำเป็นต้องเป็นตัวเลขเพียงอย่างเดียว"
      ]
    },
    {
      "cell_type": "code",
      "metadata": {
        "id": "72Ir9ZwnLBiN"
      },
      "source": [
        "list_b=[1,4,'thai',['a',3,9]]"
      ],
      "execution_count": 39,
      "outputs": []
    },
    {
      "cell_type": "markdown",
      "metadata": {
        "id": "XkZKqreCLPes"
      },
      "source": [
        "list ซ้อน list"
      ]
    },
    {
      "cell_type": "code",
      "metadata": {
        "id": "415XQsrQLTIr",
        "colab": {
          "base_uri": "https://localhost:8080/",
          "height": 34
        },
        "outputId": "101f6ca7-4124-4363-ef00-e1d25c62a40f"
      },
      "source": [
        "list_b[-1][0]"
      ],
      "execution_count": 40,
      "outputs": [
        {
          "output_type": "execute_result",
          "data": {
            "application/vnd.google.colaboratory.intrinsic+json": {
              "type": "string"
            },
            "text/plain": [
              "'a'"
            ]
          },
          "metadata": {
            "tags": []
          },
          "execution_count": 40
        }
      ]
    },
    {
      "cell_type": "markdown",
      "metadata": {
        "id": "DABDHaJTL12_"
      },
      "source": [
        "สำหรับ list จะมีแค่เครื่องหมายบวกอย่างเดียว คือ การเอา list มาต่อการ"
      ]
    },
    {
      "cell_type": "code",
      "metadata": {
        "id": "trqyY9c3MCSg",
        "colab": {
          "base_uri": "https://localhost:8080/"
        },
        "outputId": "94a3aa20-34e5-4a66-8bc3-bb7fb3b07f6a"
      },
      "source": [
        "list_c=list_a+list_b\n",
        "list_c"
      ],
      "execution_count": 41,
      "outputs": [
        {
          "output_type": "execute_result",
          "data": {
            "text/plain": [
              "[1, 3, 7, 19, 1, 4, 'thai', ['a', 3, 9]]"
            ]
          },
          "metadata": {
            "tags": []
          },
          "execution_count": 41
        }
      ]
    },
    {
      "cell_type": "markdown",
      "metadata": {
        "id": "o8vzS2PFMXdo"
      },
      "source": [
        "วิธีสร้าง list แบบง่ายๆ มี 2 แบบ 1.เราจะใส่ชื่อตัวแปล และเริ่มต้นด้วย list ว่างก่อน 2. ใช้คำที่เขามีการรีเสิร์ชไว้"
      ]
    },
    {
      "cell_type": "code",
      "metadata": {
        "id": "J8xSiznOMtpu"
      },
      "source": [
        "list_a1=[]"
      ],
      "execution_count": 42,
      "outputs": []
    },
    {
      "cell_type": "code",
      "metadata": {
        "id": "rujBzBn7M75V"
      },
      "source": [
        "list_a2=list()"
      ],
      "execution_count": 43,
      "outputs": []
    },
    {
      "cell_type": "markdown",
      "metadata": {
        "id": "-36liGe3NA3G"
      },
      "source": [
        "วิธีเพิ่มสมาชิกเข้าไปใน list ว่าง โดยการใส่ .append คือการเพิ่มสมาชิกต่อท้าย list ไปเรื่อยๆ"
      ]
    },
    {
      "cell_type": "markdown",
      "metadata": {
        "id": "-QLdozbH3jtB"
      },
      "source": [
        ".append : คำสั่งในการเพิ่มสมาชิกเข้าไปเรื่อยๆ โดยจะเพิ่มตัวเลขหรือตัวอักษรเข้าไปต่อท้าย"
      ]
    },
    {
      "cell_type": "code",
      "metadata": {
        "id": "ziLeM6EKNRCO",
        "colab": {
          "base_uri": "https://localhost:8080/"
        },
        "outputId": "9f5a25d0-26ed-4285-9803-8bdc1884deea"
      },
      "source": [
        "list_a1.append(666)\n",
        "list_a1"
      ],
      "execution_count": 44,
      "outputs": [
        {
          "output_type": "execute_result",
          "data": {
            "text/plain": [
              "[666]"
            ]
          },
          "metadata": {
            "tags": []
          },
          "execution_count": 44
        }
      ]
    },
    {
      "cell_type": "code",
      "metadata": {
        "id": "vkAgz5i4NbL0",
        "colab": {
          "base_uri": "https://localhost:8080/"
        },
        "outputId": "03a2ec02-da78-4fcb-fa23-296c98a40f9f"
      },
      "source": [
        "print(list_c)\n",
        "list_c.append(1234)\n",
        "print(list_c)"
      ],
      "execution_count": 45,
      "outputs": [
        {
          "output_type": "stream",
          "text": [
            "[1, 3, 7, 19, 1, 4, 'thai', ['a', 3, 9]]\n",
            "[1, 3, 7, 19, 1, 4, 'thai', ['a', 3, 9], 1234]\n"
          ],
          "name": "stdout"
        }
      ]
    },
    {
      "cell_type": "markdown",
      "metadata": {
        "id": "dxDRjJ50OqqY"
      },
      "source": [
        "### string is a list of characters"
      ]
    },
    {
      "cell_type": "markdown",
      "metadata": {
        "id": "SJuG9BNE3rqw"
      },
      "source": [
        "string is a list of character str คือ list ของตัวอักษร"
      ]
    },
    {
      "cell_type": "code",
      "metadata": {
        "id": "gOVAQH2MOo3f"
      },
      "source": [
        "word_a='statistics KKU'"
      ],
      "execution_count": 78,
      "outputs": []
    },
    {
      "cell_type": "markdown",
      "metadata": {
        "id": "DjVahEo8PLsq"
      },
      "source": [
        "วิธีเรียกค่าตัว d โดยการกด a [-1]"
      ]
    },
    {
      "cell_type": "markdown",
      "metadata": {
        "id": "mfxv6vKk3xVL"
      },
      "source": [
        "ถ้าอยากได้ตัวสุดท้ายของอักษร สำหรับlist จะต้องใช้วงเล็บ [ ] เสมอ"
      ]
    },
    {
      "cell_type": "code",
      "metadata": {
        "id": "zBGIbwO2PX2n",
        "colab": {
          "base_uri": "https://localhost:8080/",
          "height": 34
        },
        "outputId": "0b22c231-12cb-4979-b058-1b440ad9a37d"
      },
      "source": [
        "word_a[-1]"
      ],
      "execution_count": 79,
      "outputs": [
        {
          "output_type": "execute_result",
          "data": {
            "application/vnd.google.colaboratory.intrinsic+json": {
              "type": "string"
            },
            "text/plain": [
              "'U'"
            ]
          },
          "metadata": {
            "tags": []
          },
          "execution_count": 79
        }
      ]
    },
    {
      "cell_type": "markdown",
      "metadata": {
        "id": "bMqXvjV831T1"
      },
      "source": [
        "การเอา word_a ตัวแรกมาต่อเพิ่มกับ Thailand"
      ]
    },
    {
      "cell_type": "code",
      "metadata": {
        "id": "m8-NFz_SPjFf",
        "colab": {
          "base_uri": "https://localhost:8080/",
          "height": 34
        },
        "outputId": "73d93eb9-2648-4a8b-d721-6d3109ea7bf8"
      },
      "source": [
        "word_a+' Thailand'"
      ],
      "execution_count": 80,
      "outputs": [
        {
          "output_type": "execute_result",
          "data": {
            "application/vnd.google.colaboratory.intrinsic+json": {
              "type": "string"
            },
            "text/plain": [
              "'statistics KKU Thailand'"
            ]
          },
          "metadata": {
            "tags": []
          },
          "execution_count": 80
        }
      ]
    },
    {
      "cell_type": "code",
      "metadata": {
        "id": "dXMU0i_qP4SF",
        "colab": {
          "base_uri": "https://localhost:8080/"
        },
        "outputId": "b4e4cc58-7323-4523-f5a3-4cdaba88b8a7"
      },
      "source": [
        "len(word_a)"
      ],
      "execution_count": 81,
      "outputs": [
        {
          "output_type": "execute_result",
          "data": {
            "text/plain": [
              "14"
            ]
          },
          "metadata": {
            "tags": []
          },
          "execution_count": 81
        }
      ]
    },
    {
      "cell_type": "markdown",
      "metadata": {
        "id": "I7Kiez-G36C9"
      },
      "source": [
        "\n",
        "f เป็นการจัดรูปแบบประโยค\n",
        "สามารถแทรกตัวแปรเข้าไปใน str ได้ ใช้ f แทรกเข้าไปอยู่หน้า str ตัวแรก"
      ]
    },
    {
      "cell_type": "markdown",
      "metadata": {
        "id": "FyFZcT3BQKRy"
      },
      "source": [
        "ความสามารถพิเศษของสตริง คือสามารถแทรกตัวแปรลงไปในสติงได้"
      ]
    },
    {
      "cell_type": "code",
      "metadata": {
        "id": "rGgr7Ax2SnaO",
        "colab": {
          "base_uri": "https://localhost:8080/",
          "height": 34
        },
        "outputId": "7d2d304f-7989-4c38-d7ba-b8dcbafb74ad"
      },
      "source": [
        "st_x=f'list_c={list_c}'\n",
        "st_x"
      ],
      "execution_count": 82,
      "outputs": [
        {
          "output_type": "execute_result",
          "data": {
            "application/vnd.google.colaboratory.intrinsic+json": {
              "type": "string"
            },
            "text/plain": [
              "\"list_c=[1, 3, 7, 19, 1, 4, 'thai', ['a', 3, 9], 1234]\""
            ]
          },
          "metadata": {
            "tags": []
          },
          "execution_count": 82
        }
      ]
    },
    {
      "cell_type": "code",
      "metadata": {
        "id": "7Ern-LErQSkQ",
        "colab": {
          "base_uri": "https://localhost:8080/",
          "height": 34
        },
        "outputId": "398620bf-bd1d-41cf-c350-f32a280ea97a"
      },
      "source": [
        "f'list_c={list_c}'"
      ],
      "execution_count": 83,
      "outputs": [
        {
          "output_type": "execute_result",
          "data": {
            "application/vnd.google.colaboratory.intrinsic+json": {
              "type": "string"
            },
            "text/plain": [
              "\"list_c=[1, 3, 7, 19, 1, 4, 'thai', ['a', 3, 9], 1234]\""
            ]
          },
          "metadata": {
            "tags": []
          },
          "execution_count": 83
        }
      ]
    },
    {
      "cell_type": "code",
      "metadata": {
        "id": "E9lCaxRDQgdm",
        "colab": {
          "base_uri": "https://localhost:8080/",
          "height": 34
        },
        "outputId": "6bd222d7-747d-455d-dc9b-6359acc47fe9"
      },
      "source": [
        "f'modulo example -> 4 mod 3={4%3}' #การหารเอาเศษ"
      ],
      "execution_count": 84,
      "outputs": [
        {
          "output_type": "execute_result",
          "data": {
            "application/vnd.google.colaboratory.intrinsic+json": {
              "type": "string"
            },
            "text/plain": [
              "'modulo example -> 4 mod 3=1'"
            ]
          },
          "metadata": {
            "tags": []
          },
          "execution_count": 84
        }
      ]
    },
    {
      "cell_type": "markdown",
      "metadata": {
        "id": "_tabHgV64De_"
      },
      "source": [
        ".split() : การแยกตัวสมาชิกออกจาก str โดยการตัดด้วยช่องว่าง คือการเอาช่องว่างมาแยก"
      ]
    },
    {
      "cell_type": "markdown",
      "metadata": {
        "id": "h10HZxiARhUd"
      },
      "source": [
        "สิ่งที่เจอบ่อยสำหรับ สตริง คำสั่งนั้นคือ split"
      ]
    },
    {
      "cell_type": "code",
      "metadata": {
        "id": "smphaxM7SA1v",
        "colab": {
          "base_uri": "https://localhost:8080/"
        },
        "outputId": "23893be1-d762-4fef-c06f-1eff365b49c3"
      },
      "source": [
        "print(st_x)\n",
        "st_x.split(', ') #คำสั่ง .split โดยให้แยกด้วยตัวคอมมา"
      ],
      "execution_count": 85,
      "outputs": [
        {
          "output_type": "stream",
          "text": [
            "list_c=[1, 3, 7, 19, 1, 4, 'thai', ['a', 3, 9], 1234]\n"
          ],
          "name": "stdout"
        },
        {
          "output_type": "execute_result",
          "data": {
            "text/plain": [
              "['list_c=[1', '3', '7', '19', '1', '4', \"'thai'\", \"['a'\", '3', '9]', '1234]']"
            ]
          },
          "metadata": {
            "tags": []
          },
          "execution_count": 85
        }
      ]
    },
    {
      "cell_type": "code",
      "metadata": {
        "id": "Bz8dxoZHTFFe",
        "colab": {
          "base_uri": "https://localhost:8080/"
        },
        "outputId": "e494d546-3ae5-4870-d769-55500e302ec7"
      },
      "source": [
        "print(st_x)\n",
        "st_x.split()"
      ],
      "execution_count": 86,
      "outputs": [
        {
          "output_type": "stream",
          "text": [
            "list_c=[1, 3, 7, 19, 1, 4, 'thai', ['a', 3, 9], 1234]\n"
          ],
          "name": "stdout"
        },
        {
          "output_type": "execute_result",
          "data": {
            "text/plain": [
              "['list_c=[1,',\n",
              " '3,',\n",
              " '7,',\n",
              " '19,',\n",
              " '1,',\n",
              " '4,',\n",
              " \"'thai',\",\n",
              " \"['a',\",\n",
              " '3,',\n",
              " '9],',\n",
              " '1234]']"
            ]
          },
          "metadata": {
            "tags": []
          },
          "execution_count": 86
        }
      ]
    },
    {
      "cell_type": "markdown",
      "metadata": {
        "id": "5ajLDtohTw_6"
      },
      "source": [
        "###Loop"
      ]
    },
    {
      "cell_type": "markdown",
      "metadata": {
        "id": "NV7RX44s4RM5"
      },
      "source": [
        "for ตามด้วยตัวแปรที่จะใช้วนลูป in ตามด้วย [สมาชิกแต่ละตัวใน list ]"
      ]
    },
    {
      "cell_type": "markdown",
      "metadata": {
        "id": "yqg2F_fHT08j"
      },
      "source": [
        "การวนลูปในไพทอน"
      ]
    },
    {
      "cell_type": "code",
      "metadata": {
        "id": "w7ybs5AJTN5U",
        "colab": {
          "base_uri": "https://localhost:8080/"
        },
        "outputId": "1dd196fe-ac5d-4e40-f7bc-98d33b54b03b"
      },
      "source": [
        "for i in [1,2,3,4]:\n",
        "    print(f'first line {i}')\n",
        "    print(f'second line {2*i}')"
      ],
      "execution_count": 55,
      "outputs": [
        {
          "output_type": "stream",
          "text": [
            "first line 1\n",
            "second line 2\n",
            "first line 2\n",
            "second line 4\n",
            "first line 3\n",
            "second line 6\n",
            "first line 4\n",
            "second line 8\n"
          ],
          "name": "stdout"
        }
      ]
    },
    {
      "cell_type": "code",
      "metadata": {
        "id": "s3ex7q3FUVUs",
        "colab": {
          "base_uri": "https://localhost:8080/"
        },
        "outputId": "446d6e4c-3c20-4c8e-afaf-c877fd5c0c0d"
      },
      "source": [
        "for i in [1,2,3,4]:\n",
        "    print('HaHaHa')"
      ],
      "execution_count": 56,
      "outputs": [
        {
          "output_type": "stream",
          "text": [
            "HaHaHa\n",
            "HaHaHa\n",
            "HaHaHa\n",
            "HaHaHa\n"
          ],
          "name": "stdout"
        }
      ]
    },
    {
      "cell_type": "code",
      "metadata": {
        "id": "PrCm3PM8VwKt",
        "colab": {
          "base_uri": "https://localhost:8080/"
        },
        "outputId": "ba50b398-0b31-4811-feec-90ca45928198"
      },
      "source": [
        "for x in list_a:\n",
        "    print(x)"
      ],
      "execution_count": 57,
      "outputs": [
        {
          "output_type": "stream",
          "text": [
            "1\n",
            "3\n",
            "7\n",
            "19\n"
          ],
          "name": "stdout"
        }
      ]
    },
    {
      "cell_type": "markdown",
      "metadata": {
        "id": "APcAxGvTWjaJ"
      },
      "source": [
        "range คือการสร้าง list ที่มีค่า"
      ]
    },
    {
      "cell_type": "markdown",
      "metadata": {
        "id": "IHLrXlVy4aG0"
      },
      "source": [
        "คำสั่งที่ช่วยไม่ให้เราเขียน list ยาว คือ range : สร้าง list ขึ้นมาใหม่"
      ]
    },
    {
      "cell_type": "code",
      "metadata": {
        "id": "ZnBaFqY_Wdcj",
        "colab": {
          "base_uri": "https://localhost:8080/"
        },
        "outputId": "4dcc94cb-4ef4-4a82-ae9a-ab654b3f6db8"
      },
      "source": [
        "range(6)"
      ],
      "execution_count": 58,
      "outputs": [
        {
          "output_type": "execute_result",
          "data": {
            "text/plain": [
              "range(0, 6)"
            ]
          },
          "metadata": {
            "tags": []
          },
          "execution_count": 58
        }
      ]
    },
    {
      "cell_type": "code",
      "metadata": {
        "id": "XrcrJuJxWsVD",
        "colab": {
          "base_uri": "https://localhost:8080/"
        },
        "outputId": "bd374a67-616b-4f27-cbb5-6dd5504c5bfe"
      },
      "source": [
        "for i in range(6):\n",
        "  print(i)"
      ],
      "execution_count": 59,
      "outputs": [
        {
          "output_type": "stream",
          "text": [
            "0\n",
            "1\n",
            "2\n",
            "3\n",
            "4\n",
            "5\n"
          ],
          "name": "stdout"
        }
      ]
    },
    {
      "cell_type": "code",
      "metadata": {
        "id": "F9SDjaKLXIPH",
        "colab": {
          "base_uri": "https://localhost:8080/"
        },
        "outputId": "a807d4bc-b946-482d-b918-44e847a794fc"
      },
      "source": [
        "for i in range(3):\n",
        "    print('start inner')\n",
        "    for j in range(3):\n",
        "        print(f'i={i}, j={j} ixj={i*j}')\n",
        "    print('end inner')"
      ],
      "execution_count": 60,
      "outputs": [
        {
          "output_type": "stream",
          "text": [
            "start inner\n",
            "i=0, j=0 ixj=0\n",
            "i=0, j=1 ixj=0\n",
            "i=0, j=2 ixj=0\n",
            "end inner\n",
            "start inner\n",
            "i=1, j=0 ixj=0\n",
            "i=1, j=1 ixj=1\n",
            "i=1, j=2 ixj=2\n",
            "end inner\n",
            "start inner\n",
            "i=2, j=0 ixj=0\n",
            "i=2, j=1 ixj=2\n",
            "i=2, j=2 ixj=4\n",
            "end inner\n"
          ],
          "name": "stdout"
        }
      ]
    },
    {
      "cell_type": "markdown",
      "metadata": {
        "id": "nCZaweH4ZO6x"
      },
      "source": [
        "###If statement"
      ]
    },
    {
      "cell_type": "markdown",
      "metadata": {
        "id": "axEFR3814h5M"
      },
      "source": [
        "If statement เงื่อนไข (<, >, <=, >=, ==, !=)\n",
        "if คือ ถ้าเงื่อนไขตรงถึงจะแสดงผลลัพธ์ออกมา ถ้าไม่ตรงก็จะไม่แสดงออกมา"
      ]
    },
    {
      "cell_type": "code",
      "metadata": {
        "id": "k1S2Py2gZ5b5",
        "colab": {
          "base_uri": "https://localhost:8080/"
        },
        "outputId": "39f4d1a9-8aae-4956-f42b-32c5bc721f2f"
      },
      "source": [
        "stringX = 'abcdefghijklmnopq'\n",
        "if len(stringX) > 6:\n",
        "    print('StringX is longer then 6')"
      ],
      "execution_count": 88,
      "outputs": [
        {
          "output_type": "stream",
          "text": [
            "StringX is longer then 6\n"
          ],
          "name": "stdout"
        }
      ]
    },
    {
      "cell_type": "markdown",
      "metadata": {
        "id": "a5RVXlwD42z3"
      },
      "source": [
        "เพิ่ม else เป็นอีกตัวที่บอกว่าถ้าไม่แสดงอย่างแรก ก็จะให้แสดงอย่างที่สอง"
      ]
    },
    {
      "cell_type": "code",
      "metadata": {
        "id": "RPmAoM9xamZ-",
        "colab": {
          "base_uri": "https://localhost:8080/"
        },
        "outputId": "ea50acfd-ff00-4471-d1b9-ca2ce488569b"
      },
      "source": [
        "stringX = 'abcdefghijklmnopq'\n",
        "if len(stringX) > 100:\n",
        "    print('StringX is longer then 6')\n",
        "else:\n",
        "    print('XXX')"
      ],
      "execution_count": 62,
      "outputs": [
        {
          "output_type": "stream",
          "text": [
            "XXX\n"
          ],
          "name": "stdout"
        }
      ]
    },
    {
      "cell_type": "code",
      "metadata": {
        "id": "s3umfZAMaf5R",
        "colab": {
          "base_uri": "https://localhost:8080/"
        },
        "outputId": "a1532d06-ce6d-415b-f0a6-12365f1ab4fe"
      },
      "source": [
        "stringX = 'abcdefghijklmnopq'\n",
        "if len(stringX) < 10:\n",
        "    print('StringX is shorter then 10')\n",
        "elif len(stringX)==17:\n",
        "    print(stringX)\n",
        "else:\n",
        "    print('XXX')"
      ],
      "execution_count": 63,
      "outputs": [
        {
          "output_type": "stream",
          "text": [
            "abcdefghijklmnopq\n"
          ],
          "name": "stdout"
        }
      ]
    },
    {
      "cell_type": "markdown",
      "metadata": {
        "id": "32ZW_A3mcIn7"
      },
      "source": [
        "###Exercise 1"
      ]
    },
    {
      "cell_type": "markdown",
      "metadata": {
        "id": "f_Nov4excSXV"
      },
      "source": [
        "หาค่ามากที่สุดใน list_EX = [-4,-1,-9,8,11] โดยไม่ใช้ function max()"
      ]
    },
    {
      "cell_type": "code",
      "metadata": {
        "id": "eS_o_cC4coyf",
        "colab": {
          "base_uri": "https://localhost:8080/"
        },
        "outputId": "14f0eb5f-55e9-4306-afc3-5b8c667ad428"
      },
      "source": [
        "list_EX=[-4,-1,-9,8,11]\n",
        "MAXIMUM=-1000000000\n",
        "for i in list_EX:\n",
        "    if i > MAXIMUM:\n",
        "      MAXIMUM=i\n",
        "      print(f'now maximum is {MAXIMUM}')\n",
        "print(f'Answer is {MAXIMUM} is the maximum number of {list_EX}')"
      ],
      "execution_count": 64,
      "outputs": [
        {
          "output_type": "stream",
          "text": [
            "now maximum is -4\n",
            "now maximum is -1\n",
            "now maximum is 8\n",
            "now maximum is 11\n",
            "Answer is 11 is the maximum number of [-4, -1, -9, 8, 11]\n"
          ],
          "name": "stdout"
        }
      ]
    },
    {
      "cell_type": "code",
      "metadata": {
        "id": "tIB_O-OKhG4J",
        "colab": {
          "base_uri": "https://localhost:8080/"
        },
        "outputId": "8bd1888b-35a5-4604-f2f9-95c666a3ac82"
      },
      "source": [
        "list_EX = [-4, -1, -9, 8, 11]\n",
        "maximum = -10000000\n",
        "for i in list_EX :\n",
        "    if i > maximum:\n",
        "      print (f'{i}>{maximum} UPDATE!, ' ,end=' ')\n",
        "      maximum = i\n",
        "      print (f'now maximum is {maximum}')\n",
        "    else:\n",
        "      print (f'{i}<{maximum} NOT UPDATE!, now maximum is {maximum}')\n",
        "print(f'Answer is {maximum} is the maximum number of {list_EX}')"
      ],
      "execution_count": 65,
      "outputs": [
        {
          "output_type": "stream",
          "text": [
            "-4>-10000000 UPDATE!,  now maximum is -4\n",
            "-1>-4 UPDATE!,  now maximum is -1\n",
            "-9<-1 NOT UPDATE!, now maximum is -1\n",
            "8>-1 UPDATE!,  now maximum is 8\n",
            "11>8 UPDATE!,  now maximum is 11\n",
            "Answer is 11 is the maximum number of [-4, -1, -9, 8, 11]\n"
          ],
          "name": "stdout"
        }
      ]
    },
    {
      "cell_type": "markdown",
      "metadata": {
        "id": "c7TtyRJXhGSW"
      },
      "source": [
        "###HW"
      ]
    },
    {
      "cell_type": "markdown",
      "metadata": {
        "id": "pwNi1RC4hJZH"
      },
      "source": [
        "เรียงลำดับค่าใน list_EX=[-4,-1,-9,8,11] จากค่ามากที่สุดไปน้อยสุด โดยไม่ใช้ function sort()"
      ]
    },
    {
      "cell_type": "code",
      "metadata": {
        "id": "weNcW19ziKE8",
        "colab": {
          "base_uri": "https://localhost:8080/"
        },
        "outputId": "b0a1f725-ed4e-45af-febd-b8065fb47748"
      },
      "source": [
        "list_EX = [-4, -1, -9, 8, 11] #สร้างตัวแปรเพื่อเก็บจำนวนตัวเลข\n",
        "LIST1_EX = len(list_EX) #ทำการเก็บขนาดของจำนวนครั้งในการจัดเรียงในตัวแปร LIST1_EX โดยใช้คำสั่ง len โดนจำนวน list = 5\n",
        "LIST2_EX = LIST1_EX - 1 #กำหนดจำนวนครั้งการจัดเรียง เอา LIST1_EX มาลบด้วย 1 จะเท่ากับ 4\n",
        "for a in range(LIST1_EX) :   #กำหนดloop โดยใช้ for ตามด้วย a คือ จำนวนครั้งในการจัดเรียง จัดเรียงโดย LIST1_EX คือ 5ครั้ง\n",
        "      for b in range(LIST2_EX) :  #กำหนดloop โดยใช้ for ตามด้วย b คือ จำนวนครั้งในการสลับ เท่ากับ LIST2_EX คือ 4ครั้ง\n",
        "            if list_EX[b] < list_EX[b+1] : #ทำการเปรียบเทียบในกรณีนี้คือ จัดเรียงจากมากไปน้อย โดยใช้ if ถ้าข้อมูลตัวเลขใน list_EX[b] น้อยกว่า list_EX[b+1]\n",
        "                ccc = list_EX[b]  #ถ้าเงื่อนไขเป็นจริง จะสร้างตัวแปรชื่อ ccc มาเก็บข้อมูลจำนวนตัวเลขจาก list_EX[b]\n",
        "                list_EX[b] = list_EX[b+1] #ทำการสลับข้อมูลตัวเลขจาก list_EX[b+1] มาไว้ที่ list_EX[b]\n",
        "                list_EX[b+1] = ccc #ทำการนำข้อมูลที่อยู่ในตัวแปร ccc มาเก็บไว้ใน list_EX[b+1]\n",
        "print(list_EX)"
      ],
      "execution_count": 89,
      "outputs": [
        {
          "output_type": "stream",
          "text": [
            "[11, 8, -1, -4, -9]\n"
          ],
          "name": "stdout"
        }
      ]
    },
    {
      "cell_type": "markdown",
      "metadata": {
        "id": "1LH2OlWxh6I-"
      },
      "source": [
        "### Function()\n",
        "เป็นการเก็บโค๊ดที่เขียนไปแล้วเก็บไว้ใน function เพื่อใช้เรียกมาใหม่"
      ]
    },
    {
      "cell_type": "code",
      "metadata": {
        "id": "jHWekqibiD2E",
        "colab": {
          "base_uri": "https://localhost:8080/"
        },
        "outputId": "fae4c2b0-d443-4661-d971-b502ed545a0a"
      },
      "source": [
        "list_EX = [-4, -1, -9, 8, 11]\n",
        "maximum = -10000000\n",
        "for i in list_EX :\n",
        "    if i > maximum:\n",
        "      print (f'{i}>{maximum} UPDATE!, ' ,end=' ')\n",
        "      maximum = i\n",
        "      print (f'now maximum is {maximum}')\n",
        "    else:\n",
        "      print (f'{i}<{maximum} NOT UPDATE!, now maximum is {maximum}')\n",
        "print(f'Answer is {maximum} is the maximum number of {list_EX}')"
      ],
      "execution_count": 67,
      "outputs": [
        {
          "output_type": "stream",
          "text": [
            "-4>-10000000 UPDATE!,  now maximum is -4\n",
            "-1>-4 UPDATE!,  now maximum is -1\n",
            "-9<-1 NOT UPDATE!, now maximum is -1\n",
            "8>-1 UPDATE!,  now maximum is 8\n",
            "11>8 UPDATE!,  now maximum is 11\n",
            "Answer is 11 is the maximum number of [-4, -1, -9, 8, 11]\n"
          ],
          "name": "stdout"
        }
      ]
    },
    {
      "cell_type": "code",
      "metadata": {
        "id": "N-tYzSOikQ6D"
      },
      "source": [
        "def find_max(in_list): \n",
        "      maximum = -10000000\n",
        "      for i in in_list:\n",
        "          if i > maximum:\n",
        "              print (f'{i}>{maximum} UPDATE!, ' ,end=' ')\n",
        "              maximum = i\n",
        "              print (f'now maximum is {maximum}')\n",
        "          else:\n",
        "              print (f'{i}<{maximum} NOT UPDATE!, now maximum is {maximum}')\n",
        "\n",
        "      print(f'Answer is {maximum} is the maximum number of {in_list}')"
      ],
      "execution_count": 68,
      "outputs": []
    },
    {
      "cell_type": "code",
      "metadata": {
        "id": "KqLehN0Wifgn",
        "colab": {
          "base_uri": "https://localhost:8080/"
        },
        "outputId": "25ad9837-0f86-4cc5-9e71-cfae93589db9"
      },
      "source": [
        "find_max([12, 1666, 912312, -2, 77])"
      ],
      "execution_count": 69,
      "outputs": [
        {
          "output_type": "stream",
          "text": [
            "12>-10000000 UPDATE!,  now maximum is 12\n",
            "1666>12 UPDATE!,  now maximum is 1666\n",
            "912312>1666 UPDATE!,  now maximum is 912312\n",
            "-2<912312 NOT UPDATE!, now maximum is 912312\n",
            "77<912312 NOT UPDATE!, now maximum is 912312\n",
            "Answer is 912312 is the maximum number of [12, 1666, 912312, -2, 77]\n"
          ],
          "name": "stdout"
        }
      ]
    },
    {
      "cell_type": "markdown",
      "metadata": {
        "id": "Y7uHKvSZrodo"
      },
      "source": [
        "__return__ คือ การเอา output ไปใช้ต่อ โดยการส่งค่ากลับมา"
      ]
    },
    {
      "cell_type": "code",
      "metadata": {
        "id": "vcuwEqMXnutK"
      },
      "source": [
        "def find_max(in_list): \n",
        "      maximum = -10000000\n",
        "      for i in in_list:\n",
        "          if i > maximum:\n",
        "              print (f'{i}>{maximum} UPDATE!, ' ,end=' ')\n",
        "              maximum = i\n",
        "              print (f'now maximum is {maximum}')\n",
        "          else:\n",
        "              print (f'{i}<{maximum} NOT UPDATE!, now maximum is {maximum}')\n",
        "\n",
        "      print(f'Answer is {maximum} is the maximum number of {in_list}')\n",
        "      return maximum"
      ],
      "execution_count": 70,
      "outputs": []
    },
    {
      "cell_type": "code",
      "metadata": {
        "id": "czsBNHYOnu28",
        "colab": {
          "base_uri": "https://localhost:8080/"
        },
        "outputId": "08ad00b1-d924-4c57-fa85-3d320115dafb"
      },
      "source": [
        "a = find_max([12, 1666, 912312, -2, 77])"
      ],
      "execution_count": 71,
      "outputs": [
        {
          "output_type": "stream",
          "text": [
            "12>-10000000 UPDATE!,  now maximum is 12\n",
            "1666>12 UPDATE!,  now maximum is 1666\n",
            "912312>1666 UPDATE!,  now maximum is 912312\n",
            "-2<912312 NOT UPDATE!, now maximum is 912312\n",
            "77<912312 NOT UPDATE!, now maximum is 912312\n",
            "Answer is 912312 is the maximum number of [12, 1666, 912312, -2, 77]\n"
          ],
          "name": "stdout"
        }
      ]
    },
    {
      "cell_type": "code",
      "metadata": {
        "id": "JTaTSXmAiwRr",
        "colab": {
          "base_uri": "https://localhost:8080/"
        },
        "outputId": "31f63285-b05f-4ec2-ab08-b87e37d5af18"
      },
      "source": [
        "a"
      ],
      "execution_count": 72,
      "outputs": [
        {
          "output_type": "execute_result",
          "data": {
            "text/plain": [
              "912312"
            ]
          },
          "metadata": {
            "tags": []
          },
          "execution_count": 72
        }
      ]
    },
    {
      "cell_type": "markdown",
      "metadata": {
        "id": "vPqJU9fg5cei"
      },
      "source": [
        "List Slicing : การทำให้ได้ list ส่วนหนึ่งออกมา"
      ]
    },
    {
      "cell_type": "markdown",
      "metadata": {
        "id": "AOBiG-UVgoj-"
      },
      "source": [
        "###19/08/2020\n",
        "### List Slicing:"
      ]
    },
    {
      "cell_type": "code",
      "metadata": {
        "id": "yWfOHNbtgne2"
      },
      "source": [
        "example_list=list(range(-4,99,3))"
      ],
      "execution_count": 73,
      "outputs": []
    },
    {
      "cell_type": "code",
      "metadata": {
        "id": "nGR_m9TehK-c",
        "colab": {
          "base_uri": "https://localhost:8080/"
        },
        "outputId": "248efd9c-61f4-4322-9446-355f145dacef"
      },
      "source": [
        "example_list[0:10]"
      ],
      "execution_count": 74,
      "outputs": [
        {
          "output_type": "execute_result",
          "data": {
            "text/plain": [
              "[-4, -1, 2, 5, 8, 11, 14, 17, 20, 23]"
            ]
          },
          "metadata": {
            "tags": []
          },
          "execution_count": 74
        }
      ]
    },
    {
      "cell_type": "markdown",
      "metadata": {
        "id": "_tIJzO4HiNZ3"
      },
      "source": [
        "ตัวอย่างแบบที่ 2"
      ]
    },
    {
      "cell_type": "markdown",
      "metadata": {
        "id": "L3k45pAN5y7E"
      },
      "source": [
        "\n",
        "เอาทั้ง list มา -10 คือกลับหลังเลข เอา list ตัวสุดท้ายกลับมาข้างหน้า"
      ]
    },
    {
      "cell_type": "code",
      "metadata": {
        "id": "nycuwuE-iQ_M",
        "colab": {
          "base_uri": "https://localhost:8080/"
        },
        "outputId": "a054f1c5-2456-45be-d8b8-d9b3749578eb"
      },
      "source": [
        "example_list[-10:]"
      ],
      "execution_count": 75,
      "outputs": [
        {
          "output_type": "execute_result",
          "data": {
            "text/plain": [
              "[71, 74, 77, 80, 83, 86, 89, 92, 95, 98]"
            ]
          },
          "metadata": {
            "tags": []
          },
          "execution_count": 75
        }
      ]
    },
    {
      "cell_type": "code",
      "metadata": {
        "id": "RYcDLVnBikZU",
        "colab": {
          "base_uri": "https://localhost:8080/"
        },
        "outputId": "7cfcacb0-4493-4c76-9193-d56fa87f8621"
      },
      "source": [
        "example_list[9:-2:4]"
      ],
      "execution_count": 76,
      "outputs": [
        {
          "output_type": "execute_result",
          "data": {
            "text/plain": [
              "[23, 35, 47, 59, 71, 83]"
            ]
          },
          "metadata": {
            "tags": []
          },
          "execution_count": 76
        }
      ]
    },
    {
      "cell_type": "markdown",
      "metadata": {
        "id": "ex-NHCEm55Rm"
      },
      "source": [
        "\n",
        "เอาทั้ง list มา -1 คือกลับหลังเลข เอา list ตัวสุดท้ายกลับมาข้างหน้า"
      ]
    },
    {
      "cell_type": "code",
      "metadata": {
        "id": "iSaFk66pjFuw",
        "colab": {
          "base_uri": "https://localhost:8080/"
        },
        "outputId": "a553bc3d-5fa1-45fa-e124-6a0ea721a549"
      },
      "source": [
        "example_list[::-1]"
      ],
      "execution_count": 77,
      "outputs": [
        {
          "output_type": "execute_result",
          "data": {
            "text/plain": [
              "[98,\n",
              " 95,\n",
              " 92,\n",
              " 89,\n",
              " 86,\n",
              " 83,\n",
              " 80,\n",
              " 77,\n",
              " 74,\n",
              " 71,\n",
              " 68,\n",
              " 65,\n",
              " 62,\n",
              " 59,\n",
              " 56,\n",
              " 53,\n",
              " 50,\n",
              " 47,\n",
              " 44,\n",
              " 41,\n",
              " 38,\n",
              " 35,\n",
              " 32,\n",
              " 29,\n",
              " 26,\n",
              " 23,\n",
              " 20,\n",
              " 17,\n",
              " 14,\n",
              " 11,\n",
              " 8,\n",
              " 5,\n",
              " 2,\n",
              " -1,\n",
              " -4]"
            ]
          },
          "metadata": {
            "tags": []
          },
          "execution_count": 77
        }
      ]
    }
  ]
}